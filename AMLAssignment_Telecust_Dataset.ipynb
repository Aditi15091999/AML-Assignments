{
  "nbformat": 4,
  "nbformat_minor": 0,
  "metadata": {
    "colab": {
      "name": "AMLAssignment Telecust Dataset.ipynb",
      "provenance": [],
      "authorship_tag": "ABX9TyO/37160WvYzhVZtl60d3sW",
      "include_colab_link": true
    },
    "kernelspec": {
      "name": "python3",
      "display_name": "Python 3"
    },
    "language_info": {
      "name": "python"
    }
  },
  "cells": [
    {
      "cell_type": "markdown",
      "metadata": {
        "id": "view-in-github",
        "colab_type": "text"
      },
      "source": [
        "<a href=\"https://colab.research.google.com/github/Aditi15091999/AML-Assignments/blob/main/AMLAssignment_Telecust_Dataset.ipynb\" target=\"_parent\"><img src=\"https://colab.research.google.com/assets/colab-badge.svg\" alt=\"Open In Colab\"/></a>"
      ]
    },
    {
      "cell_type": "markdown",
      "source": [
        "**DECISION TREE Implementation**"
      ],
      "metadata": {
        "id": "Is997yIA3Rrf"
      }
    },
    {
      "cell_type": "code",
      "execution_count": 1,
      "metadata": {
        "id": "71giJ3RNh2M2"
      },
      "outputs": [],
      "source": [
        "#importing the necessary libraries\n",
        "import numpy as np\n",
        "import matplotlib.pyplot as plt\n",
        "import pandas as pd"
      ]
    },
    {
      "cell_type": "code",
      "source": [
        "#importing the dataset\n",
        "dataset=pd.read_csv('Telecust1.csv')\n",
        "dataset"
      ],
      "metadata": {
        "colab": {
          "base_uri": "https://localhost:8080/",
          "height": 424
        },
        "id": "pLTt7sJDy5wI",
        "outputId": "1b738bb4-b4c8-46cb-d1d6-207e0981c9b3"
      },
      "execution_count": 2,
      "outputs": [
        {
          "output_type": "execute_result",
          "data": {
            "text/html": [
              "\n",
              "  <div id=\"df-761339fd-ee3e-4c15-8da5-9acc62207357\">\n",
              "    <div class=\"colab-df-container\">\n",
              "      <div>\n",
              "<style scoped>\n",
              "    .dataframe tbody tr th:only-of-type {\n",
              "        vertical-align: middle;\n",
              "    }\n",
              "\n",
              "    .dataframe tbody tr th {\n",
              "        vertical-align: top;\n",
              "    }\n",
              "\n",
              "    .dataframe thead th {\n",
              "        text-align: right;\n",
              "    }\n",
              "</style>\n",
              "<table border=\"1\" class=\"dataframe\">\n",
              "  <thead>\n",
              "    <tr style=\"text-align: right;\">\n",
              "      <th></th>\n",
              "      <th>region</th>\n",
              "      <th>tenure</th>\n",
              "      <th>age</th>\n",
              "      <th>income</th>\n",
              "      <th>marital</th>\n",
              "      <th>address</th>\n",
              "      <th>ed</th>\n",
              "      <th>employ</th>\n",
              "      <th>retire</th>\n",
              "      <th>gender</th>\n",
              "      <th>reside</th>\n",
              "      <th>custcat</th>\n",
              "    </tr>\n",
              "  </thead>\n",
              "  <tbody>\n",
              "    <tr>\n",
              "      <th>0</th>\n",
              "      <td>2</td>\n",
              "      <td>13</td>\n",
              "      <td>44</td>\n",
              "      <td>64</td>\n",
              "      <td>1</td>\n",
              "      <td>9</td>\n",
              "      <td>4</td>\n",
              "      <td>5</td>\n",
              "      <td>0</td>\n",
              "      <td>0</td>\n",
              "      <td>2</td>\n",
              "      <td>A</td>\n",
              "    </tr>\n",
              "    <tr>\n",
              "      <th>1</th>\n",
              "      <td>3</td>\n",
              "      <td>11</td>\n",
              "      <td>33</td>\n",
              "      <td>136</td>\n",
              "      <td>1</td>\n",
              "      <td>7</td>\n",
              "      <td>5</td>\n",
              "      <td>5</td>\n",
              "      <td>0</td>\n",
              "      <td>0</td>\n",
              "      <td>6</td>\n",
              "      <td>D</td>\n",
              "    </tr>\n",
              "    <tr>\n",
              "      <th>2</th>\n",
              "      <td>3</td>\n",
              "      <td>68</td>\n",
              "      <td>52</td>\n",
              "      <td>116</td>\n",
              "      <td>1</td>\n",
              "      <td>24</td>\n",
              "      <td>1</td>\n",
              "      <td>29</td>\n",
              "      <td>0</td>\n",
              "      <td>1</td>\n",
              "      <td>2</td>\n",
              "      <td>C</td>\n",
              "    </tr>\n",
              "    <tr>\n",
              "      <th>3</th>\n",
              "      <td>2</td>\n",
              "      <td>33</td>\n",
              "      <td>33</td>\n",
              "      <td>33</td>\n",
              "      <td>0</td>\n",
              "      <td>12</td>\n",
              "      <td>2</td>\n",
              "      <td>0</td>\n",
              "      <td>0</td>\n",
              "      <td>1</td>\n",
              "      <td>1</td>\n",
              "      <td>A</td>\n",
              "    </tr>\n",
              "    <tr>\n",
              "      <th>4</th>\n",
              "      <td>2</td>\n",
              "      <td>23</td>\n",
              "      <td>30</td>\n",
              "      <td>30</td>\n",
              "      <td>1</td>\n",
              "      <td>9</td>\n",
              "      <td>1</td>\n",
              "      <td>2</td>\n",
              "      <td>0</td>\n",
              "      <td>0</td>\n",
              "      <td>4</td>\n",
              "      <td>C</td>\n",
              "    </tr>\n",
              "    <tr>\n",
              "      <th>...</th>\n",
              "      <td>...</td>\n",
              "      <td>...</td>\n",
              "      <td>...</td>\n",
              "      <td>...</td>\n",
              "      <td>...</td>\n",
              "      <td>...</td>\n",
              "      <td>...</td>\n",
              "      <td>...</td>\n",
              "      <td>...</td>\n",
              "      <td>...</td>\n",
              "      <td>...</td>\n",
              "      <td>...</td>\n",
              "    </tr>\n",
              "    <tr>\n",
              "      <th>995</th>\n",
              "      <td>3</td>\n",
              "      <td>10</td>\n",
              "      <td>39</td>\n",
              "      <td>27</td>\n",
              "      <td>0</td>\n",
              "      <td>0</td>\n",
              "      <td>3</td>\n",
              "      <td>0</td>\n",
              "      <td>0</td>\n",
              "      <td>1</td>\n",
              "      <td>3</td>\n",
              "      <td>A</td>\n",
              "    </tr>\n",
              "    <tr>\n",
              "      <th>996</th>\n",
              "      <td>1</td>\n",
              "      <td>7</td>\n",
              "      <td>34</td>\n",
              "      <td>22</td>\n",
              "      <td>0</td>\n",
              "      <td>2</td>\n",
              "      <td>5</td>\n",
              "      <td>5</td>\n",
              "      <td>0</td>\n",
              "      <td>1</td>\n",
              "      <td>1</td>\n",
              "      <td>A</td>\n",
              "    </tr>\n",
              "    <tr>\n",
              "      <th>997</th>\n",
              "      <td>3</td>\n",
              "      <td>67</td>\n",
              "      <td>59</td>\n",
              "      <td>944</td>\n",
              "      <td>0</td>\n",
              "      <td>40</td>\n",
              "      <td>5</td>\n",
              "      <td>33</td>\n",
              "      <td>0</td>\n",
              "      <td>1</td>\n",
              "      <td>1</td>\n",
              "      <td>D</td>\n",
              "    </tr>\n",
              "    <tr>\n",
              "      <th>998</th>\n",
              "      <td>3</td>\n",
              "      <td>70</td>\n",
              "      <td>49</td>\n",
              "      <td>87</td>\n",
              "      <td>0</td>\n",
              "      <td>18</td>\n",
              "      <td>2</td>\n",
              "      <td>22</td>\n",
              "      <td>0</td>\n",
              "      <td>1</td>\n",
              "      <td>1</td>\n",
              "      <td>C</td>\n",
              "    </tr>\n",
              "    <tr>\n",
              "      <th>999</th>\n",
              "      <td>3</td>\n",
              "      <td>50</td>\n",
              "      <td>36</td>\n",
              "      <td>39</td>\n",
              "      <td>1</td>\n",
              "      <td>7</td>\n",
              "      <td>3</td>\n",
              "      <td>3</td>\n",
              "      <td>0</td>\n",
              "      <td>1</td>\n",
              "      <td>3</td>\n",
              "      <td>B</td>\n",
              "    </tr>\n",
              "  </tbody>\n",
              "</table>\n",
              "<p>1000 rows × 12 columns</p>\n",
              "</div>\n",
              "      <button class=\"colab-df-convert\" onclick=\"convertToInteractive('df-761339fd-ee3e-4c15-8da5-9acc62207357')\"\n",
              "              title=\"Convert this dataframe to an interactive table.\"\n",
              "              style=\"display:none;\">\n",
              "        \n",
              "  <svg xmlns=\"http://www.w3.org/2000/svg\" height=\"24px\"viewBox=\"0 0 24 24\"\n",
              "       width=\"24px\">\n",
              "    <path d=\"M0 0h24v24H0V0z\" fill=\"none\"/>\n",
              "    <path d=\"M18.56 5.44l.94 2.06.94-2.06 2.06-.94-2.06-.94-.94-2.06-.94 2.06-2.06.94zm-11 1L8.5 8.5l.94-2.06 2.06-.94-2.06-.94L8.5 2.5l-.94 2.06-2.06.94zm10 10l.94 2.06.94-2.06 2.06-.94-2.06-.94-.94-2.06-.94 2.06-2.06.94z\"/><path d=\"M17.41 7.96l-1.37-1.37c-.4-.4-.92-.59-1.43-.59-.52 0-1.04.2-1.43.59L10.3 9.45l-7.72 7.72c-.78.78-.78 2.05 0 2.83L4 21.41c.39.39.9.59 1.41.59.51 0 1.02-.2 1.41-.59l7.78-7.78 2.81-2.81c.8-.78.8-2.07 0-2.86zM5.41 20L4 18.59l7.72-7.72 1.47 1.35L5.41 20z\"/>\n",
              "  </svg>\n",
              "      </button>\n",
              "      \n",
              "  <style>\n",
              "    .colab-df-container {\n",
              "      display:flex;\n",
              "      flex-wrap:wrap;\n",
              "      gap: 12px;\n",
              "    }\n",
              "\n",
              "    .colab-df-convert {\n",
              "      background-color: #E8F0FE;\n",
              "      border: none;\n",
              "      border-radius: 50%;\n",
              "      cursor: pointer;\n",
              "      display: none;\n",
              "      fill: #1967D2;\n",
              "      height: 32px;\n",
              "      padding: 0 0 0 0;\n",
              "      width: 32px;\n",
              "    }\n",
              "\n",
              "    .colab-df-convert:hover {\n",
              "      background-color: #E2EBFA;\n",
              "      box-shadow: 0px 1px 2px rgba(60, 64, 67, 0.3), 0px 1px 3px 1px rgba(60, 64, 67, 0.15);\n",
              "      fill: #174EA6;\n",
              "    }\n",
              "\n",
              "    [theme=dark] .colab-df-convert {\n",
              "      background-color: #3B4455;\n",
              "      fill: #D2E3FC;\n",
              "    }\n",
              "\n",
              "    [theme=dark] .colab-df-convert:hover {\n",
              "      background-color: #434B5C;\n",
              "      box-shadow: 0px 1px 3px 1px rgba(0, 0, 0, 0.15);\n",
              "      filter: drop-shadow(0px 1px 2px rgba(0, 0, 0, 0.3));\n",
              "      fill: #FFFFFF;\n",
              "    }\n",
              "  </style>\n",
              "\n",
              "      <script>\n",
              "        const buttonEl =\n",
              "          document.querySelector('#df-761339fd-ee3e-4c15-8da5-9acc62207357 button.colab-df-convert');\n",
              "        buttonEl.style.display =\n",
              "          google.colab.kernel.accessAllowed ? 'block' : 'none';\n",
              "\n",
              "        async function convertToInteractive(key) {\n",
              "          const element = document.querySelector('#df-761339fd-ee3e-4c15-8da5-9acc62207357');\n",
              "          const dataTable =\n",
              "            await google.colab.kernel.invokeFunction('convertToInteractive',\n",
              "                                                     [key], {});\n",
              "          if (!dataTable) return;\n",
              "\n",
              "          const docLinkHtml = 'Like what you see? Visit the ' +\n",
              "            '<a target=\"_blank\" href=https://colab.research.google.com/notebooks/data_table.ipynb>data table notebook</a>'\n",
              "            + ' to learn more about interactive tables.';\n",
              "          element.innerHTML = '';\n",
              "          dataTable['output_type'] = 'display_data';\n",
              "          await google.colab.output.renderOutput(dataTable, element);\n",
              "          const docLink = document.createElement('div');\n",
              "          docLink.innerHTML = docLinkHtml;\n",
              "          element.appendChild(docLink);\n",
              "        }\n",
              "      </script>\n",
              "    </div>\n",
              "  </div>\n",
              "  "
            ],
            "text/plain": [
              "     region  tenure  age  income  ...  retire  gender  reside  custcat\n",
              "0         2      13   44      64  ...       0       0       2        A\n",
              "1         3      11   33     136  ...       0       0       6        D\n",
              "2         3      68   52     116  ...       0       1       2        C\n",
              "3         2      33   33      33  ...       0       1       1        A\n",
              "4         2      23   30      30  ...       0       0       4        C\n",
              "..      ...     ...  ...     ...  ...     ...     ...     ...      ...\n",
              "995       3      10   39      27  ...       0       1       3        A\n",
              "996       1       7   34      22  ...       0       1       1        A\n",
              "997       3      67   59     944  ...       0       1       1        D\n",
              "998       3      70   49      87  ...       0       1       1        C\n",
              "999       3      50   36      39  ...       0       1       3        B\n",
              "\n",
              "[1000 rows x 12 columns]"
            ]
          },
          "metadata": {},
          "execution_count": 2
        }
      ]
    },
    {
      "cell_type": "code",
      "source": [
        "#Defining the independent variables\n",
        "X=dataset.iloc[:,0:11].values\n",
        "X"
      ],
      "metadata": {
        "colab": {
          "base_uri": "https://localhost:8080/"
        },
        "id": "6PgCOTTKzEll",
        "outputId": "9618a295-b6c6-46af-ca0e-e4cc80cae523"
      },
      "execution_count": 3,
      "outputs": [
        {
          "output_type": "execute_result",
          "data": {
            "text/plain": [
              "array([[ 2, 13, 44, ...,  0,  0,  2],\n",
              "       [ 3, 11, 33, ...,  0,  0,  6],\n",
              "       [ 3, 68, 52, ...,  0,  1,  2],\n",
              "       ...,\n",
              "       [ 3, 67, 59, ...,  0,  1,  1],\n",
              "       [ 3, 70, 49, ...,  0,  1,  1],\n",
              "       [ 3, 50, 36, ...,  0,  1,  3]])"
            ]
          },
          "metadata": {},
          "execution_count": 3
        }
      ]
    },
    {
      "cell_type": "code",
      "source": [
        "#Defining the independent variables\n",
        "y=dataset.iloc[:,11].values\n",
        "y"
      ],
      "metadata": {
        "colab": {
          "base_uri": "https://localhost:8080/"
        },
        "id": "CGoj1hpF0Ud3",
        "outputId": "19048f9b-44f9-4ad5-b6ce-e0a00f46781f"
      },
      "execution_count": 4,
      "outputs": [
        {
          "output_type": "execute_result",
          "data": {
            "text/plain": [
              "array(['A', 'D', 'C', 'A', 'C', 'C', 'B', 'D', 'C', 'B', 'A', 'C', 'A',\n",
              "       'D', 'A', 'B', 'C', 'C', 'A', 'D', 'B', 'A', 'D', 'A', 'C', 'C',\n",
              "       'D', 'C', 'A', 'B', 'B', 'D', 'C', 'B', 'D', 'B', 'D', 'C', 'C',\n",
              "       'C', 'C', 'C', 'A', 'D', 'C', 'B', 'B', 'D', 'A', 'C', 'A', 'B',\n",
              "       'D', 'A', 'A', 'A', 'B', 'A', 'C', 'B', 'C', 'D', 'A', 'D', 'D',\n",
              "       'A', 'C', 'C', 'A', 'A', 'A', 'B', 'A', 'B', 'C', 'A', 'C', 'A',\n",
              "       'C', 'D', 'D', 'A', 'D', 'C', 'B', 'A', 'B', 'D', 'D', 'C', 'B',\n",
              "       'A', 'B', 'D', 'A', 'D', 'C', 'B', 'C', 'B', 'D', 'C', 'C', 'B',\n",
              "       'B', 'B', 'A', 'D', 'A', 'B', 'B', 'B', 'A', 'B', 'C', 'A', 'C',\n",
              "       'C', 'C', 'A', 'A', 'A', 'A', 'B', 'A', 'B', 'D', 'B', 'B', 'D',\n",
              "       'C', 'A', 'D', 'B', 'C', 'A', 'A', 'C', 'C', 'D', 'D', 'C', 'D',\n",
              "       'B', 'C', 'A', 'D', 'B', 'B', 'B', 'A', 'C', 'D', 'D', 'D', 'C',\n",
              "       'A', 'A', 'B', 'C', 'C', 'C', 'A', 'C', 'B', 'B', 'D', 'A', 'A',\n",
              "       'B', 'D', 'A', 'D', 'A', 'B', 'A', 'C', 'D', 'D', 'A', 'D', 'A',\n",
              "       'B', 'B', 'B', 'A', 'A', 'B', 'C', 'C', 'A', 'D', 'B', 'C', 'D',\n",
              "       'A', 'A', 'C', 'A', 'D', 'A', 'D', 'B', 'B', 'D', 'A', 'C', 'D',\n",
              "       'C', 'C', 'A', 'A', 'A', 'B', 'B', 'A', 'C', 'D', 'D', 'A', 'C',\n",
              "       'D', 'A', 'C', 'A', 'D', 'D', 'A', 'C', 'C', 'C', 'C', 'B', 'A',\n",
              "       'D', 'B', 'D', 'D', 'A', 'D', 'A', 'D', 'C', 'B', 'A', 'C', 'B',\n",
              "       'A', 'A', 'B', 'A', 'D', 'B', 'B', 'D', 'C', 'B', 'A', 'D', 'D',\n",
              "       'D', 'A', 'C', 'B', 'A', 'A', 'C', 'C', 'C', 'A', 'C', 'B', 'D',\n",
              "       'A', 'C', 'B', 'B', 'C', 'C', 'A', 'D', 'D', 'C', 'B', 'C', 'C',\n",
              "       'D', 'C', 'C', 'B', 'D', 'C', 'B', 'C', 'D', 'D', 'C', 'A', 'D',\n",
              "       'B', 'C', 'C', 'B', 'B', 'A', 'D', 'B', 'C', 'D', 'A', 'A', 'B',\n",
              "       'B', 'D', 'D', 'A', 'C', 'A', 'D', 'A', 'D', 'C', 'B', 'D', 'A',\n",
              "       'C', 'A', 'C', 'D', 'A', 'A', 'A', 'A', 'D', 'B', 'A', 'C', 'A',\n",
              "       'A', 'C', 'A', 'D', 'A', 'D', 'C', 'A', 'B', 'C', 'D', 'D', 'D',\n",
              "       'C', 'A', 'C', 'B', 'C', 'B', 'B', 'C', 'C', 'C', 'C', 'D', 'B',\n",
              "       'C', 'A', 'D', 'C', 'A', 'D', 'D', 'C', 'B', 'D', 'A', 'A', 'B',\n",
              "       'B', 'D', 'A', 'A', 'B', 'C', 'B', 'B', 'C', 'A', 'D', 'C', 'B',\n",
              "       'A', 'D', 'D', 'D', 'C', 'D', 'C', 'B', 'C', 'C', 'B', 'C', 'B',\n",
              "       'C', 'A', 'C', 'D', 'B', 'A', 'B', 'D', 'A', 'B', 'B', 'C', 'B',\n",
              "       'A', 'C', 'B', 'A', 'B', 'A', 'C', 'D', 'B', 'B', 'D', 'A', 'C',\n",
              "       'B', 'A', 'B', 'A', 'B', 'D', 'D', 'A', 'D', 'C', 'D', 'D', 'C',\n",
              "       'D', 'A', 'C', 'B', 'C', 'A', 'D', 'C', 'C', 'A', 'A', 'B', 'D',\n",
              "       'A', 'D', 'B', 'C', 'D', 'A', 'D', 'C', 'B', 'C', 'D', 'C', 'A',\n",
              "       'B', 'A', 'B', 'C', 'B', 'A', 'D', 'B', 'D', 'C', 'B', 'A', 'A',\n",
              "       'A', 'B', 'A', 'C', 'A', 'A', 'C', 'B', 'C', 'A', 'A', 'A', 'A',\n",
              "       'C', 'D', 'B', 'D', 'C', 'C', 'B', 'B', 'B', 'C', 'A', 'A', 'B',\n",
              "       'D', 'B', 'B', 'D', 'D', 'B', 'B', 'D', 'D', 'A', 'D', 'D', 'C',\n",
              "       'D', 'B', 'C', 'A', 'B', 'B', 'C', 'A', 'D', 'A', 'A', 'A', 'C',\n",
              "       'B', 'C', 'C', 'D', 'C', 'D', 'D', 'C', 'C', 'D', 'A', 'C', 'D',\n",
              "       'A', 'C', 'A', 'A', 'B', 'D', 'B', 'C', 'A', 'A', 'C', 'C', 'B',\n",
              "       'D', 'B', 'D', 'A', 'A', 'C', 'B', 'A', 'B', 'A', 'C', 'B', 'D',\n",
              "       'C', 'D', 'A', 'A', 'D', 'A', 'D', 'C', 'B', 'C', 'C', 'A', 'A',\n",
              "       'C', 'A', 'A', 'A', 'A', 'C', 'D', 'C', 'A', 'C', 'D', 'C', 'C',\n",
              "       'D', 'A', 'A', 'B', 'A', 'C', 'B', 'B', 'C', 'A', 'D', 'A', 'C',\n",
              "       'B', 'C', 'C', 'C', 'A', 'A', 'C', 'B', 'D', 'C', 'A', 'B', 'B',\n",
              "       'D', 'A', 'D', 'C', 'A', 'A', 'C', 'A', 'C', 'D', 'A', 'D', 'B',\n",
              "       'A', 'C', 'C', 'D', 'C', 'C', 'A', 'A', 'B', 'D', 'D', 'C', 'A',\n",
              "       'C', 'A', 'C', 'A', 'A', 'C', 'C', 'D', 'B', 'A', 'C', 'B', 'A',\n",
              "       'D', 'D', 'A', 'D', 'B', 'B', 'D', 'B', 'B', 'C', 'A', 'B', 'C',\n",
              "       'D', 'C', 'D', 'B', 'B', 'C', 'C', 'A', 'C', 'C', 'B', 'A', 'D',\n",
              "       'B', 'B', 'C', 'B', 'A', 'D', 'B', 'D', 'C', 'D', 'B', 'B', 'B',\n",
              "       'C', 'C', 'A', 'B', 'B', 'B', 'C', 'D', 'D', 'A', 'D', 'D', 'D',\n",
              "       'A', 'D', 'C', 'C', 'D', 'A', 'A', 'A', 'D', 'B', 'C', 'B', 'C',\n",
              "       'A', 'A', 'A', 'A', 'D', 'A', 'B', 'B', 'A', 'A', 'D', 'C', 'B',\n",
              "       'D', 'C', 'C', 'A', 'D', 'B', 'B', 'B', 'A', 'D', 'D', 'B', 'C',\n",
              "       'B', 'A', 'C', 'B', 'A', 'B', 'D', 'D', 'C', 'A', 'B', 'D', 'D',\n",
              "       'C', 'B', 'A', 'B', 'C', 'D', 'C', 'C', 'B', 'A', 'D', 'D', 'D',\n",
              "       'A', 'A', 'C', 'D', 'A', 'A', 'A', 'C', 'B', 'B', 'B', 'A', 'B',\n",
              "       'C', 'A', 'C', 'B', 'D', 'D', 'D', 'C', 'D', 'C', 'C', 'C', 'C',\n",
              "       'C', 'D', 'C', 'B', 'D', 'A', 'B', 'C', 'C', 'C', 'C', 'C', 'D',\n",
              "       'C', 'A', 'C', 'D', 'D', 'A', 'D', 'A', 'C', 'B', 'B', 'C', 'B',\n",
              "       'A', 'A', 'C', 'A', 'B', 'C', 'C', 'D', 'A', 'C', 'A', 'B', 'A',\n",
              "       'A', 'A', 'D', 'D', 'D', 'B', 'C', 'B', 'B', 'C', 'C', 'A', 'C',\n",
              "       'D', 'A', 'B', 'C', 'D', 'D', 'B', 'D', 'A', 'D', 'C', 'B', 'D',\n",
              "       'C', 'C', 'B', 'A', 'C', 'C', 'C', 'D', 'B', 'D', 'D', 'C', 'B',\n",
              "       'C', 'C', 'D', 'D', 'B', 'D', 'D', 'B', 'C', 'D', 'B', 'A', 'B',\n",
              "       'B', 'D', 'D', 'D', 'D', 'A', 'A', 'A', 'A', 'A', 'B', 'C', 'A',\n",
              "       'C', 'D', 'B', 'A', 'C', 'C', 'B', 'C', 'C', 'D', 'A', 'D', 'B',\n",
              "       'C', 'C', 'C', 'D', 'A', 'C', 'C', 'D', 'D', 'D', 'C', 'D', 'A',\n",
              "       'A', 'C', 'A', 'C', 'A', 'B', 'D', 'C', 'C', 'D', 'C', 'B', 'D',\n",
              "       'B', 'A', 'D', 'C', 'D', 'D', 'A', 'A', 'C', 'C', 'C', 'A', 'A',\n",
              "       'B', 'A', 'D', 'D', 'D', 'C', 'A', 'C', 'A', 'A', 'C', 'C', 'C',\n",
              "       'B', 'C', 'A', 'A', 'C', 'B', 'A', 'C', 'A', 'C', 'D', 'D', 'D',\n",
              "       'B', 'C', 'C', 'B', 'C', 'D', 'D', 'A', 'A', 'D', 'C', 'B'],\n",
              "      dtype=object)"
            ]
          },
          "metadata": {},
          "execution_count": 4
        }
      ]
    },
    {
      "cell_type": "code",
      "source": [
        "#Splitting the dataset into the Training set and Test set\n",
        "from sklearn.model_selection import train_test_split\n",
        "Xtrain,Xtest,ytrain,ytest=train_test_split(X,y,test_size=0.25,random_state=0)"
      ],
      "metadata": {
        "id": "S2uwnpf40eNt"
      },
      "execution_count": 5,
      "outputs": []
    },
    {
      "cell_type": "code",
      "source": [
        "#Feature Scaling\n",
        "from sklearn.preprocessing import StandardScaler\n",
        "sc=StandardScaler()\n",
        "Xtrain=sc.fit_transform(Xtrain)\n",
        "Xtest=sc.transform(Xtest)\n",
        "Xtrain"
      ],
      "metadata": {
        "colab": {
          "base_uri": "https://localhost:8080/"
        },
        "id": "AL3lLSGT0eJb",
        "outputId": "cc861ffb-3c32-4da2-e83e-0c01c18b8871"
      },
      "execution_count": 6,
      "outputs": [
        {
          "output_type": "execute_result",
          "data": {
            "text/plain": [
              "array([[-1.24415351,  0.4587481 ,  1.94630851, ..., -0.20764257,\n",
              "         0.96333824, -0.93866715],\n",
              "       [-1.24415351, -1.21642078, -1.07508659, ..., -0.20764257,\n",
              "        -1.038057  ,  0.44443769],\n",
              "       [-0.01798382, -0.09964153, -1.15459698, ..., -0.20764257,\n",
              "        -1.038057  ,  1.13599011],\n",
              "       ...,\n",
              "       [-0.01798382, -0.37883634, -1.39312818, ..., -0.20764257,\n",
              "         0.96333824,  1.13599011],\n",
              "       [-0.01798382,  0.73794292, -0.43900341, ..., -0.20764257,\n",
              "        -1.038057  , -0.24711473],\n",
              "       [ 1.20818587,  1.6685923 ,  2.02581891, ..., -0.20764257,\n",
              "         0.96333824, -0.24711473]])"
            ]
          },
          "metadata": {},
          "execution_count": 6
        }
      ]
    },
    {
      "cell_type": "code",
      "source": [
        "#fitting decision tree classification to the training set\n",
        "from sklearn.tree import DecisionTreeClassifier\n",
        "classifier=DecisionTreeClassifier(criterion='entropy',random_state=0)\n",
        "classifier.fit(Xtrain,ytrain)"
      ],
      "metadata": {
        "colab": {
          "base_uri": "https://localhost:8080/"
        },
        "id": "9JqVTCvg0eFy",
        "outputId": "ef3a1108-67d2-4dc6-861c-53b91a4cdf6d"
      },
      "execution_count": 7,
      "outputs": [
        {
          "output_type": "execute_result",
          "data": {
            "text/plain": [
              "DecisionTreeClassifier(criterion='entropy', random_state=0)"
            ]
          },
          "metadata": {},
          "execution_count": 7
        }
      ]
    },
    {
      "cell_type": "code",
      "source": [
        "#Predicting the Test set results\n",
        "y_pred=classifier.predict(Xtest)\n",
        "y_pred"
      ],
      "metadata": {
        "colab": {
          "base_uri": "https://localhost:8080/"
        },
        "id": "Eu3MAWSA0vTp",
        "outputId": "bce39383-bb8e-4d47-9319-950a3b77de0d"
      },
      "execution_count": 8,
      "outputs": [
        {
          "output_type": "execute_result",
          "data": {
            "text/plain": [
              "array(['B', 'A', 'D', 'A', 'B', 'D', 'C', 'B', 'D', 'A', 'A', 'A', 'C',\n",
              "       'C', 'C', 'B', 'C', 'D', 'A', 'A', 'C', 'A', 'A', 'B', 'B', 'B',\n",
              "       'D', 'D', 'D', 'B', 'C', 'A', 'C', 'D', 'B', 'C', 'C', 'C', 'B',\n",
              "       'B', 'D', 'C', 'D', 'D', 'C', 'D', 'D', 'D', 'B', 'A', 'C', 'C',\n",
              "       'B', 'C', 'C', 'C', 'D', 'C', 'A', 'B', 'C', 'A', 'D', 'C', 'C',\n",
              "       'A', 'D', 'A', 'D', 'D', 'B', 'A', 'B', 'D', 'B', 'B', 'C', 'C',\n",
              "       'C', 'A', 'A', 'B', 'B', 'A', 'C', 'A', 'B', 'A', 'B', 'C', 'C',\n",
              "       'C', 'C', 'C', 'C', 'C', 'A', 'D', 'B', 'B', 'A', 'A', 'C', 'B',\n",
              "       'D', 'B', 'D', 'D', 'A', 'C', 'C', 'D', 'D', 'A', 'A', 'D', 'D',\n",
              "       'D', 'D', 'B', 'B', 'C', 'A', 'D', 'C', 'C', 'B', 'B', 'A', 'A',\n",
              "       'B', 'C', 'A', 'B', 'D', 'B', 'C', 'B', 'A', 'D', 'D', 'C', 'D',\n",
              "       'D', 'C', 'C', 'D', 'D', 'D', 'D', 'D', 'C', 'C', 'C', 'A', 'B',\n",
              "       'A', 'B', 'D', 'A', 'A', 'D', 'B', 'A', 'C', 'B', 'A', 'C', 'C',\n",
              "       'D', 'B', 'D', 'D', 'D', 'C', 'C', 'C', 'C', 'A', 'A', 'C', 'D',\n",
              "       'D', 'B', 'A', 'D', 'D', 'C', 'B', 'D', 'B', 'C', 'D', 'B', 'C',\n",
              "       'D', 'A', 'B', 'A', 'B', 'C', 'A', 'A', 'C', 'B', 'A', 'B', 'A',\n",
              "       'B', 'A', 'B', 'C', 'C', 'A', 'C', 'A', 'C', 'B', 'C', 'C', 'C',\n",
              "       'D', 'A', 'A', 'B', 'C', 'A', 'C', 'A', 'C', 'B', 'A', 'C', 'A',\n",
              "       'A', 'C', 'B', 'C', 'C', 'C', 'D', 'C', 'C', 'B', 'C', 'A', 'B',\n",
              "       'D', 'A', 'C'], dtype=object)"
            ]
          },
          "metadata": {},
          "execution_count": 8
        }
      ]
    },
    {
      "cell_type": "code",
      "source": [
        "ytest"
      ],
      "metadata": {
        "colab": {
          "base_uri": "https://localhost:8080/"
        },
        "id": "_cdymM340eCS",
        "outputId": "676212d2-1545-4f35-e5e9-7f61d858063e"
      },
      "execution_count": 9,
      "outputs": [
        {
          "output_type": "execute_result",
          "data": {
            "text/plain": [
              "array(['D', 'A', 'D', 'C', 'C', 'A', 'C', 'C', 'B', 'B', 'B', 'B', 'A',\n",
              "       'D', 'D', 'A', 'A', 'A', 'A', 'A', 'D', 'A', 'A', 'B', 'B', 'B',\n",
              "       'B', 'B', 'D', 'D', 'D', 'D', 'C', 'B', 'A', 'A', 'C', 'D', 'C',\n",
              "       'C', 'C', 'A', 'D', 'D', 'D', 'D', 'C', 'C', 'C', 'A', 'A', 'D',\n",
              "       'C', 'A', 'D', 'C', 'D', 'C', 'D', 'A', 'C', 'A', 'D', 'B', 'B',\n",
              "       'A', 'A', 'A', 'B', 'D', 'D', 'B', 'B', 'A', 'D', 'B', 'B', 'B',\n",
              "       'B', 'A', 'A', 'D', 'A', 'C', 'A', 'A', 'D', 'B', 'D', 'A', 'A',\n",
              "       'C', 'C', 'A', 'C', 'A', 'A', 'A', 'C', 'A', 'A', 'B', 'A', 'A',\n",
              "       'A', 'B', 'D', 'B', 'C', 'B', 'B', 'A', 'C', 'A', 'C', 'C', 'D',\n",
              "       'C', 'C', 'B', 'A', 'A', 'A', 'C', 'C', 'A', 'B', 'B', 'C', 'D',\n",
              "       'D', 'C', 'C', 'D', 'C', 'D', 'B', 'C', 'A', 'C', 'C', 'A', 'D',\n",
              "       'B', 'C', 'B', 'B', 'D', 'A', 'D', 'B', 'B', 'C', 'B', 'B', 'C',\n",
              "       'B', 'D', 'B', 'A', 'B', 'D', 'D', 'B', 'A', 'D', 'D', 'D', 'C',\n",
              "       'B', 'D', 'C', 'A', 'A', 'A', 'D', 'A', 'C', 'D', 'C', 'C', 'B',\n",
              "       'A', 'A', 'C', 'B', 'C', 'C', 'C', 'D', 'C', 'A', 'D', 'C', 'A',\n",
              "       'B', 'A', 'A', 'A', 'A', 'A', 'B', 'A', 'C', 'C', 'C', 'C', 'A',\n",
              "       'D', 'A', 'B', 'C', 'C', 'B', 'A', 'C', 'B', 'D', 'C', 'C', 'C',\n",
              "       'C', 'D', 'C', 'D', 'D', 'B', 'C', 'A', 'B', 'A', 'D', 'B', 'A',\n",
              "       'A', 'D', 'B', 'C', 'D', 'A', 'C', 'C', 'A', 'C', 'B', 'C', 'B',\n",
              "       'C', 'B', 'B'], dtype=object)"
            ]
          },
          "metadata": {},
          "execution_count": 9
        }
      ]
    },
    {
      "cell_type": "code",
      "source": [
        "#Making the confusion matrix\n",
        "from sklearn.metrics import confusion_matrix,classification_report\n",
        "cm=confusion_matrix(ytest,y_pred)\n",
        "cm"
      ],
      "metadata": {
        "colab": {
          "base_uri": "https://localhost:8080/"
        },
        "id": "fRYHZR5r0d32",
        "outputId": "e6200820-4df1-4213-dad1-33e8c35d7bbd"
      },
      "execution_count": 10,
      "outputs": [
        {
          "output_type": "execute_result",
          "data": {
            "text/plain": [
              "array([[26, 11, 24, 11],\n",
              "       [14, 12, 16, 14],\n",
              "       [12, 15, 26, 16],\n",
              "       [ 7, 17, 13, 16]])"
            ]
          },
          "metadata": {},
          "execution_count": 10
        }
      ]
    },
    {
      "cell_type": "code",
      "source": [
        "print(classification_report(ytest,y_pred))"
      ],
      "metadata": {
        "colab": {
          "base_uri": "https://localhost:8080/"
        },
        "id": "ktavBd-i2xFU",
        "outputId": "0e70af2f-dfbb-40e7-b933-2e1e16f0e3d5"
      },
      "execution_count": 11,
      "outputs": [
        {
          "output_type": "stream",
          "name": "stdout",
          "text": [
            "              precision    recall  f1-score   support\n",
            "\n",
            "           A       0.44      0.36      0.40        72\n",
            "           B       0.22      0.21      0.22        56\n",
            "           C       0.33      0.38      0.35        69\n",
            "           D       0.28      0.30      0.29        53\n",
            "\n",
            "    accuracy                           0.32       250\n",
            "   macro avg       0.32      0.31      0.31       250\n",
            "weighted avg       0.33      0.32      0.32       250\n",
            "\n"
          ]
        }
      ]
    },
    {
      "cell_type": "code",
      "source": [
        "from sklearn import metrics #import scikit learn metrics module for accuracy calculation\n",
        "#Model Accuracy, how often is the classifier correct?\n",
        "prediction=metrics.accuracy_score(ytest,y_pred)\n",
        "print('Accuracy:',prediction*100,'%')"
      ],
      "metadata": {
        "colab": {
          "base_uri": "https://localhost:8080/"
        },
        "id": "9X_bkfu904jI",
        "outputId": "52d4480a-e4f8-4f5d-cf31-1bef8675a907"
      },
      "execution_count": 12,
      "outputs": [
        {
          "output_type": "stream",
          "name": "stdout",
          "text": [
            "Accuracy: 32.0 %\n"
          ]
        }
      ]
    },
    {
      "cell_type": "code",
      "source": [
        "import seaborn as sns\n",
        "f,ax=plt.subplots(figsize=(5,5))\n",
        "sns.heatmap(cm, linecolor=\"blue\",annot=True,linewidths=0.5)\n",
        "plt.xlabel(\"Predicted Y Vaues\")\n",
        "plt.ylabel(\"Real Y Values\")\n",
        "plt.show()"
      ],
      "metadata": {
        "colab": {
          "base_uri": "https://localhost:8080/",
          "height": 334
        },
        "id": "dMp7yvV707NW",
        "outputId": "ec0a1f4c-cd03-420c-c203-5f33f25c94b3"
      },
      "execution_count": 13,
      "outputs": [
        {
          "output_type": "display_data",
          "data": {
            "image/png": "[encoded data removed]",
            "text/plain": [
              "<Figure size 360x360 with 2 Axes>"
            ]
          },
          "metadata": {
            "needs_background": "light"
          }
        }
      ]
    },
    {
      "cell_type": "markdown",
      "source": [
        "**KNN Implementation**"
      ],
      "metadata": {
        "id": "ij1qvrSx3LZN"
      }
    },
    {
      "cell_type": "code",
      "source": [
        "#Fitting KNN to the training set\n",
        "from sklearn.neighbors import KNeighborsClassifier\n",
        "classifier=KNeighborsClassifier(n_neighbors=5,metric='minkowski',p=2)\n",
        "classifier.fit(Xtrain,ytrain)"
      ],
      "metadata": {
        "colab": {
          "base_uri": "https://localhost:8080/"
        },
        "id": "qTlCocvE3O83",
        "outputId": "ac142727-82de-45ae-859e-62f17e85ec09"
      },
      "execution_count": 14,
      "outputs": [
        {
          "output_type": "execute_result",
          "data": {
            "text/plain": [
              "KNeighborsClassifier()"
            ]
          },
          "metadata": {},
          "execution_count": 14
        }
      ]
    },
    {
      "cell_type": "code",
      "source": [
        "#Predicting the Test set results\n",
        "y_pred=classifier.predict(Xtest)\n",
        "y_pred"
      ],
      "metadata": {
        "colab": {
          "base_uri": "https://localhost:8080/"
        },
        "id": "fsa4QndU45It",
        "outputId": "8f6dd3bd-b366-4516-99bd-eacfa96c4238"
      },
      "execution_count": 15,
      "outputs": [
        {
          "output_type": "execute_result",
          "data": {
            "text/plain": [
              "array(['C', 'A', 'B', 'B', 'B', 'A', 'C', 'A', 'C', 'A', 'B', 'A', 'C',\n",
              "       'B', 'A', 'B', 'A', 'A', 'A', 'C', 'B', 'A', 'D', 'B', 'A', 'A',\n",
              "       'D', 'C', 'B', 'A', 'A', 'B', 'C', 'D', 'A', 'C', 'A', 'D', 'C',\n",
              "       'A', 'A', 'A', 'A', 'C', 'C', 'D', 'A', 'C', 'A', 'A', 'C', 'C',\n",
              "       'B', 'D', 'B', 'C', 'B', 'D', 'A', 'C', 'A', 'C', 'C', 'C', 'C',\n",
              "       'A', 'D', 'A', 'D', 'A', 'B', 'C', 'C', 'B', 'B', 'D', 'B', 'B',\n",
              "       'C', 'A', 'A', 'A', 'D', 'A', 'C', 'C', 'B', 'A', 'B', 'A', 'C',\n",
              "       'D', 'B', 'A', 'D', 'C', 'B', 'A', 'B', 'A', 'B', 'C', 'C', 'D',\n",
              "       'A', 'D', 'B', 'B', 'C', 'B', 'B', 'C', 'D', 'A', 'A', 'D', 'A',\n",
              "       'B', 'C', 'C', 'A', 'A', 'C', 'C', 'C', 'A', 'B', 'D', 'A', 'C',\n",
              "       'D', 'B', 'D', 'C', 'B', 'B', 'A', 'C', 'C', 'A', 'B', 'A', 'D',\n",
              "       'D', 'B', 'B', 'B', 'D', 'B', 'C', 'B', 'A', 'B', 'D', 'A', 'B',\n",
              "       'A', 'B', 'C', 'A', 'A', 'D', 'A', 'B', 'C', 'B', 'A', 'C', 'C',\n",
              "       'A', 'D', 'C', 'D', 'A', 'C', 'C', 'C', 'B', 'A', 'A', 'A', 'B',\n",
              "       'A', 'B', 'C', 'B', 'A', 'C', 'C', 'D', 'A', 'B', 'B', 'B', 'A',\n",
              "       'A', 'A', 'B', 'C', 'B', 'A', 'D', 'A', 'C', 'B', 'A', 'C', 'A',\n",
              "       'D', 'C', 'B', 'D', 'C', 'B', 'A', 'C', 'D', 'A', 'A', 'C', 'C',\n",
              "       'A', 'C', 'C', 'B', 'C', 'A', 'B', 'C', 'B', 'C', 'A', 'A', 'A',\n",
              "       'A', 'B', 'D', 'B', 'A', 'A', 'D', 'B', 'A', 'B', 'D', 'A', 'D',\n",
              "       'D', 'C', 'C'], dtype=object)"
            ]
          },
          "metadata": {},
          "execution_count": 15
        }
      ]
    },
    {
      "cell_type": "code",
      "source": [
        "ytest"
      ],
      "metadata": {
        "colab": {
          "base_uri": "https://localhost:8080/"
        },
        "id": "h1aPj9Dq45FD",
        "outputId": "de8623a1-60d6-46f4-cbfa-a2ba6c40b710"
      },
      "execution_count": 16,
      "outputs": [
        {
          "output_type": "execute_result",
          "data": {
            "text/plain": [
              "array(['D', 'A', 'D', 'C', 'C', 'A', 'C', 'C', 'B', 'B', 'B', 'B', 'A',\n",
              "       'D', 'D', 'A', 'A', 'A', 'A', 'A', 'D', 'A', 'A', 'B', 'B', 'B',\n",
              "       'B', 'B', 'D', 'D', 'D', 'D', 'C', 'B', 'A', 'A', 'C', 'D', 'C',\n",
              "       'C', 'C', 'A', 'D', 'D', 'D', 'D', 'C', 'C', 'C', 'A', 'A', 'D',\n",
              "       'C', 'A', 'D', 'C', 'D', 'C', 'D', 'A', 'C', 'A', 'D', 'B', 'B',\n",
              "       'A', 'A', 'A', 'B', 'D', 'D', 'B', 'B', 'A', 'D', 'B', 'B', 'B',\n",
              "       'B', 'A', 'A', 'D', 'A', 'C', 'A', 'A', 'D', 'B', 'D', 'A', 'A',\n",
              "       'C', 'C', 'A', 'C', 'A', 'A', 'A', 'C', 'A', 'A', 'B', 'A', 'A',\n",
              "       'A', 'B', 'D', 'B', 'C', 'B', 'B', 'A', 'C', 'A', 'C', 'C', 'D',\n",
              "       'C', 'C', 'B', 'A', 'A', 'A', 'C', 'C', 'A', 'B', 'B', 'C', 'D',\n",
              "       'D', 'C', 'C', 'D', 'C', 'D', 'B', 'C', 'A', 'C', 'C', 'A', 'D',\n",
              "       'B', 'C', 'B', 'B', 'D', 'A', 'D', 'B', 'B', 'C', 'B', 'B', 'C',\n",
              "       'B', 'D', 'B', 'A', 'B', 'D', 'D', 'B', 'A', 'D', 'D', 'D', 'C',\n",
              "       'B', 'D', 'C', 'A', 'A', 'A', 'D', 'A', 'C', 'D', 'C', 'C', 'B',\n",
              "       'A', 'A', 'C', 'B', 'C', 'C', 'C', 'D', 'C', 'A', 'D', 'C', 'A',\n",
              "       'B', 'A', 'A', 'A', 'A', 'A', 'B', 'A', 'C', 'C', 'C', 'C', 'A',\n",
              "       'D', 'A', 'B', 'C', 'C', 'B', 'A', 'C', 'B', 'D', 'C', 'C', 'C',\n",
              "       'C', 'D', 'C', 'D', 'D', 'B', 'C', 'A', 'B', 'A', 'D', 'B', 'A',\n",
              "       'A', 'D', 'B', 'C', 'D', 'A', 'C', 'C', 'A', 'C', 'B', 'C', 'B',\n",
              "       'C', 'B', 'B'], dtype=object)"
            ]
          },
          "metadata": {},
          "execution_count": 16
        }
      ]
    },
    {
      "cell_type": "code",
      "source": [
        "#Making the confusion matrix\n",
        "from sklearn.metrics import confusion_matrix,classification_report\n",
        "cm=confusion_matrix(ytest,y_pred)\n",
        "cm"
      ],
      "metadata": {
        "colab": {
          "base_uri": "https://localhost:8080/"
        },
        "id": "tV7NFxnI45BO",
        "outputId": "27258bc6-178e-4f54-84c3-5d4cb20883fc"
      },
      "execution_count": 17,
      "outputs": [
        {
          "output_type": "execute_result",
          "data": {
            "text/plain": [
              "array([[36,  9, 21,  6],\n",
              "       [14, 17, 12, 13],\n",
              "       [19, 19, 22,  9],\n",
              "       [14, 18, 12,  9]])"
            ]
          },
          "metadata": {},
          "execution_count": 17
        }
      ]
    },
    {
      "cell_type": "code",
      "source": [
        "print(classification_report(ytest,y_pred))"
      ],
      "metadata": {
        "colab": {
          "base_uri": "https://localhost:8080/"
        },
        "id": "LTR3ciC7449n",
        "outputId": "b52d54fe-f0be-47ab-cf3a-2c89ad83a415"
      },
      "execution_count": 18,
      "outputs": [
        {
          "output_type": "stream",
          "name": "stdout",
          "text": [
            "              precision    recall  f1-score   support\n",
            "\n",
            "           A       0.43      0.50      0.46        72\n",
            "           B       0.27      0.30      0.29        56\n",
            "           C       0.33      0.32      0.32        69\n",
            "           D       0.24      0.17      0.20        53\n",
            "\n",
            "    accuracy                           0.34       250\n",
            "   macro avg       0.32      0.32      0.32       250\n",
            "weighted avg       0.33      0.34      0.33       250\n",
            "\n"
          ]
        }
      ]
    },
    {
      "cell_type": "code",
      "source": [
        "from sklearn import metrics #import scikit learn metrics module for accuracy calculation\n",
        "#Model Accuracy, how often is the classifier correct?\n",
        "prediction=metrics.accuracy_score(ytest,y_pred)\n",
        "print('Accuracy:',prediction*100,'%')"
      ],
      "metadata": {
        "colab": {
          "base_uri": "https://localhost:8080/"
        },
        "id": "_gd1wuZY445v",
        "outputId": "1acc796c-0dce-42af-de8a-3fd56be903f1"
      },
      "execution_count": 19,
      "outputs": [
        {
          "output_type": "stream",
          "name": "stdout",
          "text": [
            "Accuracy: 33.6 %\n"
          ]
        }
      ]
    },
    {
      "cell_type": "code",
      "source": [
        "import seaborn as sns\n",
        "f,ax=plt.subplots(figsize=(5,5))\n",
        "sns.heatmap(cm, linecolor=\"blue\",annot=True,linewidths=0.5)\n",
        "plt.xlabel(\"Predicted Y Vaues\")\n",
        "plt.ylabel(\"Real Y Values\")\n",
        "plt.show()"
      ],
      "metadata": {
        "colab": {
          "base_uri": "https://localhost:8080/",
          "height": 334
        },
        "id": "rTwl1UN75PTb",
        "outputId": "8637b577-ec92-4289-eccf-2cc52c7bb369"
      },
      "execution_count": 20,
      "outputs": [
        {
          "output_type": "display_data",
          "data": {
            "image/png": "[encoded data removed]",
            "text/plain": [
              "<Figure size 360x360 with 2 Axes>"
            ]
          },
          "metadata": {
            "needs_background": "light"
          }
        }
      ]
    },
    {
      "cell_type": "markdown",
      "source": [
        "**NAIVE BAYES Implementation**"
      ],
      "metadata": {
        "id": "pdsZMdQq7Vui"
      }
    },
    {
      "cell_type": "code",
      "source": [
        "#fitting naive bayes to the training set\n",
        "from sklearn.naive_bayes import GaussianNB\n",
        "classifier=GaussianNB()\n",
        "classifier.fit(Xtrain,ytrain)"
      ],
      "metadata": {
        "colab": {
          "base_uri": "https://localhost:8080/"
        },
        "id": "EIbZdP4T6Dek",
        "outputId": "8f6d4d10-74f3-4778-9e45-a2bac2c100dc"
      },
      "execution_count": 21,
      "outputs": [
        {
          "output_type": "execute_result",
          "data": {
            "text/plain": [
              "GaussianNB()"
            ]
          },
          "metadata": {},
          "execution_count": 21
        }
      ]
    },
    {
      "cell_type": "code",
      "source": [
        "#prdeicting the test set results\n",
        "y_pred=classifier.predict(Xtest)\n",
        "y_pred"
      ],
      "metadata": {
        "colab": {
          "base_uri": "https://localhost:8080/"
        },
        "id": "GL7NOzdC7r7X",
        "outputId": "ae817e45-bfbe-4ffb-f2dd-e1c3e5fd3766"
      },
      "execution_count": 22,
      "outputs": [
        {
          "output_type": "execute_result",
          "data": {
            "text/plain": [
              "array(['B', 'A', 'A', 'A', 'B', 'A', 'A', 'A', 'A', 'A', 'A', 'C', 'C',\n",
              "       'B', 'A', 'A', 'A', 'A', 'A', 'C', 'B', 'A', 'A', 'B', 'A', 'B',\n",
              "       'B', 'A', 'A', 'D', 'A', 'A', 'A', 'A', 'A', 'A', 'A', 'B', 'B',\n",
              "       'C', 'A', 'A', 'D', 'A', 'C', 'B', 'A', 'A', 'A', 'A', 'B', 'B',\n",
              "       'B', 'A', 'B', 'C', 'A', 'A', 'A', 'A', 'A', 'C', 'A', 'D', 'C',\n",
              "       'A', 'C', 'A', 'B', 'A', 'A', 'A', 'A', 'A', 'A', 'A', 'A', 'C',\n",
              "       'A', 'A', 'A', 'A', 'A', 'A', 'C', 'A', 'B', 'A', 'B', 'C', 'C',\n",
              "       'C', 'C', 'A', 'B', 'A', 'A', 'A', 'C', 'A', 'A', 'A', 'C', 'A',\n",
              "       'A', 'B', 'A', 'D', 'C', 'A', 'A', 'A', 'D', 'A', 'A', 'C', 'D',\n",
              "       'B', 'A', 'A', 'A', 'A', 'A', 'B', 'B', 'C', 'B', 'C', 'A', 'A',\n",
              "       'D', 'B', 'A', 'B', 'A', 'A', 'A', 'D', 'B', 'A', 'D', 'A', 'D',\n",
              "       'A', 'B', 'B', 'A', 'D', 'A', 'B', 'B', 'A', 'C', 'A', 'A', 'A',\n",
              "       'A', 'A', 'D', 'A', 'A', 'A', 'C', 'C', 'C', 'A', 'A', 'A', 'C',\n",
              "       'A', 'D', 'C', 'A', 'A', 'A', 'C', 'A', 'A', 'A', 'A', 'C', 'A',\n",
              "       'A', 'A', 'A', 'B', 'A', 'C', 'C', 'D', 'A', 'B', 'D', 'A', 'A',\n",
              "       'D', 'A', 'B', 'C', 'A', 'A', 'A', 'A', 'C', 'B', 'A', 'A', 'A',\n",
              "       'A', 'A', 'A', 'A', 'C', 'C', 'A', 'A', 'A', 'B', 'A', 'C', 'C',\n",
              "       'B', 'A', 'A', 'D', 'C', 'A', 'C', 'A', 'B', 'A', 'A', 'A', 'A',\n",
              "       'A', 'A', 'B', 'B', 'B', 'A', 'A', 'A', 'B', 'B', 'C', 'A', 'C',\n",
              "       'C', 'A', 'C'], dtype='<U1')"
            ]
          },
          "metadata": {},
          "execution_count": 22
        }
      ]
    },
    {
      "cell_type": "code",
      "source": [
        "ytest"
      ],
      "metadata": {
        "colab": {
          "base_uri": "https://localhost:8080/"
        },
        "id": "Sz_oL_Ht7uLi",
        "outputId": "fdcfd621-e257-44a2-bfc8-de997009d19d"
      },
      "execution_count": 23,
      "outputs": [
        {
          "output_type": "execute_result",
          "data": {
            "text/plain": [
              "array(['D', 'A', 'D', 'C', 'C', 'A', 'C', 'C', 'B', 'B', 'B', 'B', 'A',\n",
              "       'D', 'D', 'A', 'A', 'A', 'A', 'A', 'D', 'A', 'A', 'B', 'B', 'B',\n",
              "       'B', 'B', 'D', 'D', 'D', 'D', 'C', 'B', 'A', 'A', 'C', 'D', 'C',\n",
              "       'C', 'C', 'A', 'D', 'D', 'D', 'D', 'C', 'C', 'C', 'A', 'A', 'D',\n",
              "       'C', 'A', 'D', 'C', 'D', 'C', 'D', 'A', 'C', 'A', 'D', 'B', 'B',\n",
              "       'A', 'A', 'A', 'B', 'D', 'D', 'B', 'B', 'A', 'D', 'B', 'B', 'B',\n",
              "       'B', 'A', 'A', 'D', 'A', 'C', 'A', 'A', 'D', 'B', 'D', 'A', 'A',\n",
              "       'C', 'C', 'A', 'C', 'A', 'A', 'A', 'C', 'A', 'A', 'B', 'A', 'A',\n",
              "       'A', 'B', 'D', 'B', 'C', 'B', 'B', 'A', 'C', 'A', 'C', 'C', 'D',\n",
              "       'C', 'C', 'B', 'A', 'A', 'A', 'C', 'C', 'A', 'B', 'B', 'C', 'D',\n",
              "       'D', 'C', 'C', 'D', 'C', 'D', 'B', 'C', 'A', 'C', 'C', 'A', 'D',\n",
              "       'B', 'C', 'B', 'B', 'D', 'A', 'D', 'B', 'B', 'C', 'B', 'B', 'C',\n",
              "       'B', 'D', 'B', 'A', 'B', 'D', 'D', 'B', 'A', 'D', 'D', 'D', 'C',\n",
              "       'B', 'D', 'C', 'A', 'A', 'A', 'D', 'A', 'C', 'D', 'C', 'C', 'B',\n",
              "       'A', 'A', 'C', 'B', 'C', 'C', 'C', 'D', 'C', 'A', 'D', 'C', 'A',\n",
              "       'B', 'A', 'A', 'A', 'A', 'A', 'B', 'A', 'C', 'C', 'C', 'C', 'A',\n",
              "       'D', 'A', 'B', 'C', 'C', 'B', 'A', 'C', 'B', 'D', 'C', 'C', 'C',\n",
              "       'C', 'D', 'C', 'D', 'D', 'B', 'C', 'A', 'B', 'A', 'D', 'B', 'A',\n",
              "       'A', 'D', 'B', 'C', 'D', 'A', 'C', 'C', 'A', 'C', 'B', 'C', 'B',\n",
              "       'C', 'B', 'B'], dtype=object)"
            ]
          },
          "metadata": {},
          "execution_count": 23
        }
      ]
    },
    {
      "cell_type": "code",
      "source": [
        "#Making the confusion matrix\n",
        "from sklearn.metrics import confusion_matrix,classification_report\n",
        "cm=confusion_matrix(ytest,y_pred)\n",
        "cm"
      ],
      "metadata": {
        "colab": {
          "base_uri": "https://localhost:8080/"
        },
        "id": "FO4UhFHg70MT",
        "outputId": "407e7e2a-6833-4e4a-ecc9-96db74ea2aaa"
      },
      "execution_count": 24,
      "outputs": [
        {
          "output_type": "execute_result",
          "data": {
            "text/plain": [
              "array([[56,  5, 11,  0],\n",
              "       [32, 11,  9,  4],\n",
              "       [34, 13, 19,  3],\n",
              "       [26, 13,  4, 10]])"
            ]
          },
          "metadata": {},
          "execution_count": 24
        }
      ]
    },
    {
      "cell_type": "code",
      "source": [
        "print(classification_report(ytest,y_pred))"
      ],
      "metadata": {
        "colab": {
          "base_uri": "https://localhost:8080/"
        },
        "id": "OByJcygI70ih",
        "outputId": "03e0920d-3a64-4f90-8aa8-6c5479fc8681"
      },
      "execution_count": 25,
      "outputs": [
        {
          "output_type": "stream",
          "name": "stdout",
          "text": [
            "              precision    recall  f1-score   support\n",
            "\n",
            "           A       0.38      0.78      0.51        72\n",
            "           B       0.26      0.20      0.22        56\n",
            "           C       0.44      0.28      0.34        69\n",
            "           D       0.59      0.19      0.29        53\n",
            "\n",
            "    accuracy                           0.38       250\n",
            "   macro avg       0.42      0.36      0.34       250\n",
            "weighted avg       0.41      0.38      0.35       250\n",
            "\n"
          ]
        }
      ]
    },
    {
      "cell_type": "code",
      "source": [
        "from sklearn import metrics #import scikit learn metrics module for accuracy calculation\n",
        "#Model Accuracy, how often is the classifier correct?\n",
        "prediction=metrics.accuracy_score(ytest,y_pred)\n",
        "print('Accuracy:',prediction*100,'%')"
      ],
      "metadata": {
        "colab": {
          "base_uri": "https://localhost:8080/"
        },
        "id": "K_jenLqX705F",
        "outputId": "edc653e7-2ab6-48fd-f98f-c38cbe1e907f"
      },
      "execution_count": 26,
      "outputs": [
        {
          "output_type": "stream",
          "name": "stdout",
          "text": [
            "Accuracy: 38.4 %\n"
          ]
        }
      ]
    }
  ]
}
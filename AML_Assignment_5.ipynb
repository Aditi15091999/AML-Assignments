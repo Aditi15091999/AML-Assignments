{
  "nbformat": 4,
  "nbformat_minor": 0,
  "metadata": {
    "colab": {
      "name": "AML Assignment 5.ipynb",
      "provenance": [],
      "authorship_tag": "ABX9TyMMSsI9BXVirdjs/9klFfVE",
      "include_colab_link": true
    },
    "kernelspec": {
      "name": "python3",
      "display_name": "Python 3"
    },
    "language_info": {
      "name": "python"
    }
  },
  "cells": [
    {
      "cell_type": "markdown",
      "metadata": {
        "id": "view-in-github",
        "colab_type": "text"
      },
      "source": [
        "<a href=\"https://colab.research.google.com/github/Aditi15091999/AML-Assignments/blob/main/AML_Assignment_5.ipynb\" target=\"_parent\"><img src=\"https://colab.research.google.com/assets/colab-badge.svg\" alt=\"Open In Colab\"/></a>"
      ]
    },
    {
      "cell_type": "markdown",
      "source": [
        "a.\tWrite the Python code to compute entropy and information gain "
      ],
      "metadata": {
        "id": "TUT_FSeTQJNc"
      }
    },
    {
      "cell_type": "code",
      "execution_count": null,
      "metadata": {
        "id": "V6aMg2opP2EQ"
      },
      "outputs": [],
      "source": [
        "import numpy as np\n",
        "import pandas as pd\n",
        "import math"
      ]
    },
    {
      "cell_type": "code",
      "source": [
        "midwest = pd.read_csv('midwest.csv')\n",
        "midwest"
      ],
      "metadata": {
        "colab": {
          "base_uri": "https://localhost:8080/",
          "height": 520
        },
        "id": "DFSEIwzDUT4B",
        "outputId": "82e961e9-ff8b-4547-e1fb-5ebd70d9b184"
      },
      "execution_count": null,
      "outputs": [
        {
          "output_type": "execute_result",
          "data": {
            "text/html": [
              "\n",
              "  <div id=\"df-95f39d2d-1240-4ffe-85a8-209e01e7484e\">\n",
              "    <div class=\"colab-df-container\">\n",
              "      <div>\n",
              "<style scoped>\n",
              "    .dataframe tbody tr th:only-of-type {\n",
              "        vertical-align: middle;\n",
              "    }\n",
              "\n",
              "    .dataframe tbody tr th {\n",
              "        vertical-align: top;\n",
              "    }\n",
              "\n",
              "    .dataframe thead th {\n",
              "        text-align: right;\n",
              "    }\n",
              "</style>\n",
              "<table border=\"1\" class=\"dataframe\">\n",
              "  <thead>\n",
              "    <tr style=\"text-align: right;\">\n",
              "      <th></th>\n",
              "      <th>name</th>\n",
              "      <th>age</th>\n",
              "      <th>apple_pie?</th>\n",
              "      <th>potato_salad?</th>\n",
              "      <th>sushi?</th>\n",
              "      <th>midwest?</th>\n",
              "    </tr>\n",
              "  </thead>\n",
              "  <tbody>\n",
              "    <tr>\n",
              "      <th>0</th>\n",
              "      <td>jeff</td>\n",
              "      <td>32</td>\n",
              "      <td>0</td>\n",
              "      <td>1</td>\n",
              "      <td>1</td>\n",
              "      <td>1</td>\n",
              "    </tr>\n",
              "    <tr>\n",
              "      <th>1</th>\n",
              "      <td>pete</td>\n",
              "      <td>25</td>\n",
              "      <td>1</td>\n",
              "      <td>1</td>\n",
              "      <td>0</td>\n",
              "      <td>1</td>\n",
              "    </tr>\n",
              "    <tr>\n",
              "      <th>2</th>\n",
              "      <td>anne</td>\n",
              "      <td>33</td>\n",
              "      <td>1</td>\n",
              "      <td>1</td>\n",
              "      <td>0</td>\n",
              "      <td>1</td>\n",
              "    </tr>\n",
              "    <tr>\n",
              "      <th>3</th>\n",
              "      <td>natalie</td>\n",
              "      <td>26</td>\n",
              "      <td>0</td>\n",
              "      <td>0</td>\n",
              "      <td>1</td>\n",
              "      <td>0</td>\n",
              "    </tr>\n",
              "    <tr>\n",
              "      <th>4</th>\n",
              "      <td>stella</td>\n",
              "      <td>30</td>\n",
              "      <td>1</td>\n",
              "      <td>1</td>\n",
              "      <td>1</td>\n",
              "      <td>1</td>\n",
              "    </tr>\n",
              "    <tr>\n",
              "      <th>5</th>\n",
              "      <td>rob</td>\n",
              "      <td>25</td>\n",
              "      <td>1</td>\n",
              "      <td>0</td>\n",
              "      <td>0</td>\n",
              "      <td>1</td>\n",
              "    </tr>\n",
              "    <tr>\n",
              "      <th>6</th>\n",
              "      <td>joe</td>\n",
              "      <td>42</td>\n",
              "      <td>1</td>\n",
              "      <td>1</td>\n",
              "      <td>0</td>\n",
              "      <td>1</td>\n",
              "    </tr>\n",
              "    <tr>\n",
              "      <th>7</th>\n",
              "      <td>jim</td>\n",
              "      <td>38</td>\n",
              "      <td>1</td>\n",
              "      <td>1</td>\n",
              "      <td>0</td>\n",
              "      <td>1</td>\n",
              "    </tr>\n",
              "    <tr>\n",
              "      <th>8</th>\n",
              "      <td>lisa</td>\n",
              "      <td>36</td>\n",
              "      <td>1</td>\n",
              "      <td>1</td>\n",
              "      <td>0</td>\n",
              "      <td>0</td>\n",
              "    </tr>\n",
              "    <tr>\n",
              "      <th>9</th>\n",
              "      <td>sarah</td>\n",
              "      <td>29</td>\n",
              "      <td>1</td>\n",
              "      <td>0</td>\n",
              "      <td>1</td>\n",
              "      <td>0</td>\n",
              "    </tr>\n",
              "    <tr>\n",
              "      <th>10</th>\n",
              "      <td>david</td>\n",
              "      <td>35</td>\n",
              "      <td>1</td>\n",
              "      <td>0</td>\n",
              "      <td>0</td>\n",
              "      <td>1</td>\n",
              "    </tr>\n",
              "    <tr>\n",
              "      <th>11</th>\n",
              "      <td>eric</td>\n",
              "      <td>28</td>\n",
              "      <td>1</td>\n",
              "      <td>1</td>\n",
              "      <td>1</td>\n",
              "      <td>0</td>\n",
              "    </tr>\n",
              "    <tr>\n",
              "      <th>12</th>\n",
              "      <td>mike</td>\n",
              "      <td>20</td>\n",
              "      <td>0</td>\n",
              "      <td>1</td>\n",
              "      <td>0</td>\n",
              "      <td>1</td>\n",
              "    </tr>\n",
              "    <tr>\n",
              "      <th>13</th>\n",
              "      <td>karen</td>\n",
              "      <td>38</td>\n",
              "      <td>1</td>\n",
              "      <td>0</td>\n",
              "      <td>0</td>\n",
              "      <td>1</td>\n",
              "    </tr>\n",
              "    <tr>\n",
              "      <th>14</th>\n",
              "      <td>megan</td>\n",
              "      <td>31</td>\n",
              "      <td>0</td>\n",
              "      <td>0</td>\n",
              "      <td>1</td>\n",
              "      <td>0</td>\n",
              "    </tr>\n",
              "  </tbody>\n",
              "</table>\n",
              "</div>\n",
              "      <button class=\"colab-df-convert\" onclick=\"convertToInteractive('df-95f39d2d-1240-4ffe-85a8-209e01e7484e')\"\n",
              "              title=\"Convert this dataframe to an interactive table.\"\n",
              "              style=\"display:none;\">\n",
              "        \n",
              "  <svg xmlns=\"http://www.w3.org/2000/svg\" height=\"24px\"viewBox=\"0 0 24 24\"\n",
              "       width=\"24px\">\n",
              "    <path d=\"M0 0h24v24H0V0z\" fill=\"none\"/>\n",
              "    <path d=\"M18.56 5.44l.94 2.06.94-2.06 2.06-.94-2.06-.94-.94-2.06-.94 2.06-2.06.94zm-11 1L8.5 8.5l.94-2.06 2.06-.94-2.06-.94L8.5 2.5l-.94 2.06-2.06.94zm10 10l.94 2.06.94-2.06 2.06-.94-2.06-.94-.94-2.06-.94 2.06-2.06.94z\"/><path d=\"M17.41 7.96l-1.37-1.37c-.4-.4-.92-.59-1.43-.59-.52 0-1.04.2-1.43.59L10.3 9.45l-7.72 7.72c-.78.78-.78 2.05 0 2.83L4 21.41c.39.39.9.59 1.41.59.51 0 1.02-.2 1.41-.59l7.78-7.78 2.81-2.81c.8-.78.8-2.07 0-2.86zM5.41 20L4 18.59l7.72-7.72 1.47 1.35L5.41 20z\"/>\n",
              "  </svg>\n",
              "      </button>\n",
              "      \n",
              "  <style>\n",
              "    .colab-df-container {\n",
              "      display:flex;\n",
              "      flex-wrap:wrap;\n",
              "      gap: 12px;\n",
              "    }\n",
              "\n",
              "    .colab-df-convert {\n",
              "      background-color: #E8F0FE;\n",
              "      border: none;\n",
              "      border-radius: 50%;\n",
              "      cursor: pointer;\n",
              "      display: none;\n",
              "      fill: #1967D2;\n",
              "      height: 32px;\n",
              "      padding: 0 0 0 0;\n",
              "      width: 32px;\n",
              "    }\n",
              "\n",
              "    .colab-df-convert:hover {\n",
              "      background-color: #E2EBFA;\n",
              "      box-shadow: 0px 1px 2px rgba(60, 64, 67, 0.3), 0px 1px 3px 1px rgba(60, 64, 67, 0.15);\n",
              "      fill: #174EA6;\n",
              "    }\n",
              "\n",
              "    [theme=dark] .colab-df-convert {\n",
              "      background-color: #3B4455;\n",
              "      fill: #D2E3FC;\n",
              "    }\n",
              "\n",
              "    [theme=dark] .colab-df-convert:hover {\n",
              "      background-color: #434B5C;\n",
              "      box-shadow: 0px 1px 3px 1px rgba(0, 0, 0, 0.15);\n",
              "      filter: drop-shadow(0px 1px 2px rgba(0, 0, 0, 0.3));\n",
              "      fill: #FFFFFF;\n",
              "    }\n",
              "  </style>\n",
              "\n",
              "      <script>\n",
              "        const buttonEl =\n",
              "          document.querySelector('#df-95f39d2d-1240-4ffe-85a8-209e01e7484e button.colab-df-convert');\n",
              "        buttonEl.style.display =\n",
              "          google.colab.kernel.accessAllowed ? 'block' : 'none';\n",
              "\n",
              "        async function convertToInteractive(key) {\n",
              "          const element = document.querySelector('#df-95f39d2d-1240-4ffe-85a8-209e01e7484e');\n",
              "          const dataTable =\n",
              "            await google.colab.kernel.invokeFunction('convertToInteractive',\n",
              "                                                     [key], {});\n",
              "          if (!dataTable) return;\n",
              "\n",
              "          const docLinkHtml = 'Like what you see? Visit the ' +\n",
              "            '<a target=\"_blank\" href=https://colab.research.google.com/notebooks/data_table.ipynb>data table notebook</a>'\n",
              "            + ' to learn more about interactive tables.';\n",
              "          element.innerHTML = '';\n",
              "          dataTable['output_type'] = 'display_data';\n",
              "          await google.colab.output.renderOutput(dataTable, element);\n",
              "          const docLink = document.createElement('div');\n",
              "          docLink.innerHTML = docLinkHtml;\n",
              "          element.appendChild(docLink);\n",
              "        }\n",
              "      </script>\n",
              "    </div>\n",
              "  </div>\n",
              "  "
            ],
            "text/plain": [
              "       name  age  apple_pie?  potato_salad?  sushi?  midwest?\n",
              "0      jeff   32           0              1       1         1\n",
              "1      pete   25           1              1       0         1\n",
              "2      anne   33           1              1       0         1\n",
              "3   natalie   26           0              0       1         0\n",
              "4    stella   30           1              1       1         1\n",
              "5       rob   25           1              0       0         1\n",
              "6       joe   42           1              1       0         1\n",
              "7       jim   38           1              1       0         1\n",
              "8      lisa   36           1              1       0         0\n",
              "9     sarah   29           1              0       1         0\n",
              "10    david   35           1              0       0         1\n",
              "11     eric   28           1              1       1         0\n",
              "12     mike   20           0              1       0         1\n",
              "13    karen   38           1              0       0         1\n",
              "14    megan   31           0              0       1         0"
            ]
          },
          "metadata": {},
          "execution_count": 22
        }
      ]
    },
    {
      "cell_type": "code",
      "source": [
        "def calc_entropy(column):\n",
        "    \"\"\"\n",
        "    Calculate entropy given a pandas series, list, or numpy array.\n",
        "    \"\"\"\n",
        "    # Compute the counts of each unique value in the column\n",
        "    counts = np.bincount(column)\n",
        "    # Divide by the total column length to get a probability\n",
        "    probabilities = counts / len(column)\n",
        "    \n",
        "    # Initialize the entropy to 0\n",
        "    entropy = 0\n",
        "    # Loop through the probabilities, and add each one to the total entropy\n",
        "    for prob in probabilities:\n",
        "        if prob > 0:\n",
        "            # use log from math and set base to 2\n",
        "            entropy += prob * math.log(prob, 2)\n",
        "    \n",
        "    return -entropy"
      ],
      "metadata": {
        "id": "5vwvj0lyU5Mi"
      },
      "execution_count": null,
      "outputs": []
    },
    {
      "cell_type": "code",
      "source": [
        "def calc_information_gain(data, split_name, target_name):\n",
        "    \"\"\"\n",
        "    Calculate information gain given a data set, column to split on, and target\n",
        "    \"\"\"\n",
        "    # Calculate the original entropy\n",
        "    original_entropy = calc_entropy(data[target_name])\n",
        "    \n",
        "    #Find the unique values in the column\n",
        "    values = data[split_name].unique()\n",
        "    \n",
        "    \n",
        "    # Make two subsets of the data, based on the unique values\n",
        "    left_split = data[data[split_name] == values[0]]\n",
        "    right_split = data[data[split_name] == values[1]]\n",
        "    \n",
        "    # Loop through the splits and calculate the subset entropies\n",
        "    to_subtract = 0\n",
        "    for subset in [left_split, right_split]:\n",
        "        prob = (subset.shape[0] / data.shape[0]) \n",
        "        to_subtract += prob * calc_entropy(subset[target_name])\n",
        "    \n",
        "    # Return information gain\n",
        "    return original_entropy - to_subtract"
      ],
      "metadata": {
        "id": "JQyPjrMHVZRR"
      },
      "execution_count": null,
      "outputs": []
    },
    {
      "cell_type": "code",
      "source": [
        "columns = ['apple_pie?', 'potato_salad?', 'sushi?']\n",
        "\n",
        "def highest_info_gain(columns):\n",
        "  #Intialize an empty dictionary for information gains\n",
        "  information_gains = {}\n",
        "  \n",
        "  #Iterate through each column name in our list\n",
        "  for col in columns:\n",
        "    #Find the information gain for the column\n",
        "    information_gain = calc_information_gain(midwest, col, 'midwest?')\n",
        "    #Add the information gain to our dictionary using the column name as the ekey                                         \n",
        "    information_gains[col] = information_gain\n",
        "  \n",
        "  #Return the key with the highest value                                          \n",
        "  return max(information_gains, key=information_gains.get)"
      ],
      "metadata": {
        "id": "4JeCSX3QaupO"
      },
      "execution_count": null,
      "outputs": []
    },
    {
      "cell_type": "code",
      "source": [
        "entropy=calc_entropy(midwest['midwest?'])\n",
        "entropy"
      ],
      "metadata": {
        "colab": {
          "base_uri": "https://localhost:8080/"
        },
        "id": "XwDcKkysYIx7",
        "outputId": "96754749-d61d-4de7-f99d-63c993269b11"
      },
      "execution_count": null,
      "outputs": [
        {
          "output_type": "execute_result",
          "data": {
            "text/plain": [
              "0.9182958340544896"
            ]
          },
          "metadata": {},
          "execution_count": 25
        }
      ]
    },
    {
      "cell_type": "code",
      "source": [
        "columns = ['apple_pie?', 'potato_salad?', 'sushi?']\n",
        "\n",
        "for col in columns:\n",
        "  information_gain=calc_information_gain(midwest,col,'midwest?')\n",
        "  print(information_gain)\n"
      ],
      "metadata": {
        "colab": {
          "base_uri": "https://localhost:8080/"
        },
        "id": "P658fuSpYz_C",
        "outputId": "45d85e26-b2b3-4918-d676-3ef849f125f9"
      },
      "execution_count": null,
      "outputs": [
        {
          "output_type": "stream",
          "name": "stdout",
          "text": [
            "0.03170514719803608\n",
            "0.0597731301493174\n",
            "0.24902249956730627\n"
          ]
        }
      ]
    },
    {
      "cell_type": "code",
      "source": [
        "print(highest_info_gain(columns))"
      ],
      "metadata": {
        "colab": {
          "base_uri": "https://localhost:8080/"
        },
        "id": "aENiuSRga5xh",
        "outputId": "8aace777-0a89-4686-e05c-51e7b2d10a3e"
      },
      "execution_count": null,
      "outputs": [
        {
          "output_type": "stream",
          "name": "stdout",
          "text": [
            "sushi?\n"
          ]
        }
      ]
    },
    {
      "cell_type": "markdown",
      "source": [
        "b.\tWrite the  Python code to demonstrate a conditional probability "
      ],
      "metadata": {
        "id": "Jwdd6egrQMcS"
      }
    },
    {
      "cell_type": "code",
      "source": [
        "import pandas as pd\n",
        "import numpy as np\n",
        "\n",
        "#create pandas DataFrame with raw data\n",
        "df = pd.DataFrame({'gender': np.repeat(np.array(['Male', 'Female']), 150),\n",
        "                   'sport': np.repeat(np.array(['Baseball', 'Basketball', 'Football',\n",
        "                                                'Soccer', 'Baseball', 'Basketball',\n",
        "                                                'Football', 'Soccer']), \n",
        "                                    (34, 40, 58, 18, 34, 52, 20, 44))})\n",
        "\n",
        "#produce contingency table to summarize raw data\n",
        "survey_data = pd.crosstab(index=df['gender'], columns=df['sport'], margins=True)\n",
        "\n",
        "#view contingency table\n",
        "survey_data"
      ],
      "metadata": {
        "id": "1jkgbNwqQRM2",
        "colab": {
          "base_uri": "https://localhost:8080/",
          "height": 175
        },
        "outputId": "7e4fc964-6ac9-4d23-c352-6535b660fd37"
      },
      "execution_count": null,
      "outputs": [
        {
          "output_type": "execute_result",
          "data": {
            "text/html": [
              "\n",
              "  <div id=\"df-67994929-99e6-4f28-bba9-e66467ce5bcd\">\n",
              "    <div class=\"colab-df-container\">\n",
              "      <div>\n",
              "<style scoped>\n",
              "    .dataframe tbody tr th:only-of-type {\n",
              "        vertical-align: middle;\n",
              "    }\n",
              "\n",
              "    .dataframe tbody tr th {\n",
              "        vertical-align: top;\n",
              "    }\n",
              "\n",
              "    .dataframe thead th {\n",
              "        text-align: right;\n",
              "    }\n",
              "</style>\n",
              "<table border=\"1\" class=\"dataframe\">\n",
              "  <thead>\n",
              "    <tr style=\"text-align: right;\">\n",
              "      <th>sport</th>\n",
              "      <th>Baseball</th>\n",
              "      <th>Basketball</th>\n",
              "      <th>Football</th>\n",
              "      <th>Soccer</th>\n",
              "      <th>All</th>\n",
              "    </tr>\n",
              "    <tr>\n",
              "      <th>gender</th>\n",
              "      <th></th>\n",
              "      <th></th>\n",
              "      <th></th>\n",
              "      <th></th>\n",
              "      <th></th>\n",
              "    </tr>\n",
              "  </thead>\n",
              "  <tbody>\n",
              "    <tr>\n",
              "      <th>Female</th>\n",
              "      <td>34</td>\n",
              "      <td>52</td>\n",
              "      <td>20</td>\n",
              "      <td>44</td>\n",
              "      <td>150</td>\n",
              "    </tr>\n",
              "    <tr>\n",
              "      <th>Male</th>\n",
              "      <td>34</td>\n",
              "      <td>40</td>\n",
              "      <td>58</td>\n",
              "      <td>18</td>\n",
              "      <td>150</td>\n",
              "    </tr>\n",
              "    <tr>\n",
              "      <th>All</th>\n",
              "      <td>68</td>\n",
              "      <td>92</td>\n",
              "      <td>78</td>\n",
              "      <td>62</td>\n",
              "      <td>300</td>\n",
              "    </tr>\n",
              "  </tbody>\n",
              "</table>\n",
              "</div>\n",
              "      <button class=\"colab-df-convert\" onclick=\"convertToInteractive('df-67994929-99e6-4f28-bba9-e66467ce5bcd')\"\n",
              "              title=\"Convert this dataframe to an interactive table.\"\n",
              "              style=\"display:none;\">\n",
              "        \n",
              "  <svg xmlns=\"http://www.w3.org/2000/svg\" height=\"24px\"viewBox=\"0 0 24 24\"\n",
              "       width=\"24px\">\n",
              "    <path d=\"M0 0h24v24H0V0z\" fill=\"none\"/>\n",
              "    <path d=\"M18.56 5.44l.94 2.06.94-2.06 2.06-.94-2.06-.94-.94-2.06-.94 2.06-2.06.94zm-11 1L8.5 8.5l.94-2.06 2.06-.94-2.06-.94L8.5 2.5l-.94 2.06-2.06.94zm10 10l.94 2.06.94-2.06 2.06-.94-2.06-.94-.94-2.06-.94 2.06-2.06.94z\"/><path d=\"M17.41 7.96l-1.37-1.37c-.4-.4-.92-.59-1.43-.59-.52 0-1.04.2-1.43.59L10.3 9.45l-7.72 7.72c-.78.78-.78 2.05 0 2.83L4 21.41c.39.39.9.59 1.41.59.51 0 1.02-.2 1.41-.59l7.78-7.78 2.81-2.81c.8-.78.8-2.07 0-2.86zM5.41 20L4 18.59l7.72-7.72 1.47 1.35L5.41 20z\"/>\n",
              "  </svg>\n",
              "      </button>\n",
              "      \n",
              "  <style>\n",
              "    .colab-df-container {\n",
              "      display:flex;\n",
              "      flex-wrap:wrap;\n",
              "      gap: 12px;\n",
              "    }\n",
              "\n",
              "    .colab-df-convert {\n",
              "      background-color: #E8F0FE;\n",
              "      border: none;\n",
              "      border-radius: 50%;\n",
              "      cursor: pointer;\n",
              "      display: none;\n",
              "      fill: #1967D2;\n",
              "      height: 32px;\n",
              "      padding: 0 0 0 0;\n",
              "      width: 32px;\n",
              "    }\n",
              "\n",
              "    .colab-df-convert:hover {\n",
              "      background-color: #E2EBFA;\n",
              "      box-shadow: 0px 1px 2px rgba(60, 64, 67, 0.3), 0px 1px 3px 1px rgba(60, 64, 67, 0.15);\n",
              "      fill: #174EA6;\n",
              "    }\n",
              "\n",
              "    [theme=dark] .colab-df-convert {\n",
              "      background-color: #3B4455;\n",
              "      fill: #D2E3FC;\n",
              "    }\n",
              "\n",
              "    [theme=dark] .colab-df-convert:hover {\n",
              "      background-color: #434B5C;\n",
              "      box-shadow: 0px 1px 3px 1px rgba(0, 0, 0, 0.15);\n",
              "      filter: drop-shadow(0px 1px 2px rgba(0, 0, 0, 0.3));\n",
              "      fill: #FFFFFF;\n",
              "    }\n",
              "  </style>\n",
              "\n",
              "      <script>\n",
              "        const buttonEl =\n",
              "          document.querySelector('#df-67994929-99e6-4f28-bba9-e66467ce5bcd button.colab-df-convert');\n",
              "        buttonEl.style.display =\n",
              "          google.colab.kernel.accessAllowed ? 'block' : 'none';\n",
              "\n",
              "        async function convertToInteractive(key) {\n",
              "          const element = document.querySelector('#df-67994929-99e6-4f28-bba9-e66467ce5bcd');\n",
              "          const dataTable =\n",
              "            await google.colab.kernel.invokeFunction('convertToInteractive',\n",
              "                                                     [key], {});\n",
              "          if (!dataTable) return;\n",
              "\n",
              "          const docLinkHtml = 'Like what you see? Visit the ' +\n",
              "            '<a target=\"_blank\" href=https://colab.research.google.com/notebooks/data_table.ipynb>data table notebook</a>'\n",
              "            + ' to learn more about interactive tables.';\n",
              "          element.innerHTML = '';\n",
              "          dataTable['output_type'] = 'display_data';\n",
              "          await google.colab.output.renderOutput(dataTable, element);\n",
              "          const docLink = document.createElement('div');\n",
              "          docLink.innerHTML = docLinkHtml;\n",
              "          element.appendChild(docLink);\n",
              "        }\n",
              "      </script>\n",
              "    </div>\n",
              "  </div>\n",
              "  "
            ],
            "text/plain": [
              "sport   Baseball  Basketball  Football  Soccer  All\n",
              "gender                                             \n",
              "Female        34          52        20      44  150\n",
              "Male          34          40        58      18  150\n",
              "All           68          92        78      62  300"
            ]
          },
          "metadata": {},
          "execution_count": 44
        }
      ]
    },
    {
      "cell_type": "code",
      "source": [
        "#calculate probability of being male, given that individual prefers baseball\n",
        "survey_data.iloc[1, 0] / survey_data.iloc[2, 0]"
      ],
      "metadata": {
        "id": "b7YZ_qOzmrA3",
        "colab": {
          "base_uri": "https://localhost:8080/"
        },
        "outputId": "a2257dd1-06cb-4c45-d3f4-38d207489d80"
      },
      "execution_count": 45,
      "outputs": [
        {
          "output_type": "execute_result",
          "data": {
            "text/plain": [
              "0.5"
            ]
          },
          "metadata": {},
          "execution_count": 45
        }
      ]
    },
    {
      "cell_type": "code",
      "source": [
        "#calculate probability of preferring basketball, given that individual is female\n",
        "survey_data.iloc[0, 1] / survey_data.iloc[0, 4]"
      ],
      "metadata": {
        "colab": {
          "base_uri": "https://localhost:8080/"
        },
        "id": "2v_Kt4cbogJI",
        "outputId": "40a42d82-3d50-4e46-de35-c4ac1c69e22f"
      },
      "execution_count": 46,
      "outputs": [
        {
          "output_type": "execute_result",
          "data": {
            "text/plain": [
              "0.3466666666666667"
            ]
          },
          "metadata": {},
          "execution_count": 46
        }
      ]
    },
    {
      "cell_type": "markdown",
      "source": [
        "c.\tWrite the  Python code to compute Euclidean Distance between data points"
      ],
      "metadata": {
        "id": "e00qi0MUQMKk"
      }
    },
    {
      "cell_type": "code",
      "source": [
        "from scipy.spatial import distance\n",
        "a = [1, 3, 27]\n",
        "b=  [3, 6, 8]\n",
        "print(distance.euclidean(a,b))"
      ],
      "metadata": {
        "id": "GTS5ITCZQVSX",
        "colab": {
          "base_uri": "https://localhost:8080/"
        },
        "outputId": "88a4d6d4-cfb1-416e-93c0-4e6f5f308a0e"
      },
      "execution_count": null,
      "outputs": [
        {
          "output_type": "stream",
          "name": "stdout",
          "text": [
            "19.339079605813716\n"
          ]
        }
      ]
    },
    {
      "cell_type": "markdown",
      "source": [
        "d.\tWrite the  Python code to calculate covariance matrix, Eigenvalues, and Eigenvectors "
      ],
      "metadata": {
        "id": "DqrfCQ7hQL5l"
      }
    },
    {
      "cell_type": "code",
      "source": [
        "import numpy as np\n",
        "from sklearn.preprocessing import StandardScaler\n",
        "from numpy.linalg import eig\n",
        "#\n",
        "# Percentage of marks and no. of hours studied\n",
        "#\n",
        "students = np.array([[85.4, 5],\n",
        "            [82.3, 6],\n",
        "            [97, 7],\n",
        "            [96.5, 6.5]])\n",
        "#\n",
        "# Scale the features\n",
        "#\n",
        "sc = StandardScaler()\n",
        "students_scaled = sc.fit_transform(students)\n",
        "#\n",
        "# Calculate covariance matrix; One can also use the following\n",
        "# code: np.cov(students_scaled, rowvar=False)\n",
        "#\n",
        "cov_matrix = np.cov(students_scaled.T)\n",
        "print(\"Cov-matrix:\\n\",cov_matrix)\n",
        "#\n",
        "# Calculate Eigenvalues and Eigenmatrix\n",
        "#\n",
        "eigenvalues, eigenvectors = eig(cov_matrix)\n",
        "print(\"Eigen values:\",eigenvalues)\n",
        "print(\"Eigen vector:\\n\",eigenvectors)"
      ],
      "metadata": {
        "id": "fStYLXtXQa1K",
        "colab": {
          "base_uri": "https://localhost:8080/"
        },
        "outputId": "8678e515-76b8-45ac-9218-70aab0aaca64"
      },
      "execution_count": null,
      "outputs": [
        {
          "output_type": "stream",
          "name": "stdout",
          "text": [
            "Cov-matrix:\n",
            " [[1.33333333 1.01240122]\n",
            " [1.01240122 1.33333333]]\n",
            "Eigen values: [2.34573455 0.32093211]\n",
            "Eigen vector:\n",
            " [[ 0.70710678 -0.70710678]\n",
            " [ 0.70710678  0.70710678]]\n"
          ]
        }
      ]
    },
    {
      "cell_type": "markdown",
      "source": [
        "e.\tWrite the  Python code to calculate the following\n",
        "\n",
        "  a.\tAccuracy\n",
        "  b.\tMisclassification  \n",
        "  c.\tType-1 and Type-2 error rates\n",
        "  d.\tSensitivity\n",
        "  e.\tSpecificity\n"
      ],
      "metadata": {
        "id": "NSFCoinXQLng"
      }
    },
    {
      "cell_type": "code",
      "source": [
        ""
      ],
      "metadata": {
        "id": "pQuHvBt3QqhU"
      },
      "execution_count": null,
      "outputs": []
    }
  ]
}
{
  "nbformat": 4,
  "nbformat_minor": 0,
  "metadata": {
    "colab": {
      "name": "AML Assignment Customer Purchase Dataset.ipynb",
      "provenance": [],
      "authorship_tag": "ABX9TyNT9CavXGPI8biY+vsqBhRo",
      "include_colab_link": true
    },
    "kernelspec": {
      "name": "python3",
      "display_name": "Python 3"
    },
    "language_info": {
      "name": "python"
    }
  },
  "cells": [
    {
      "cell_type": "markdown",
      "metadata": {
        "id": "view-in-github",
        "colab_type": "text"
      },
      "source": [
        "<a href=\"https://colab.research.google.com/github/Aditi15091999/AML-Assignments/blob/main/AML_Assignment_Customer_Purchase_Dataset.ipynb\" target=\"_parent\"><img src=\"https://colab.research.google.com/assets/colab-badge.svg\" alt=\"Open In Colab\"/></a>"
      ]
    },
    {
      "cell_type": "code",
      "execution_count": 1,
      "metadata": {
        "id": "VGw2k69L9qF4"
      },
      "outputs": [],
      "source": [
        "import pandas as pd\n",
        "import  matplotlib.pyplot as plt\n",
        "import numpy as np"
      ]
    },
    {
      "cell_type": "code",
      "source": [
        "#importing the dataset with pandas\n",
        "dataset=pd.read_excel('purchase.xlsx')\n",
        "dataset"
      ],
      "metadata": {
        "colab": {
          "base_uri": "https://localhost:8080/",
          "height": 424
        },
        "id": "qobKXuxEhdM8",
        "outputId": "b9de2902-c1aa-4ebe-f559-8f75a67a3b02"
      },
      "execution_count": 2,
      "outputs": [
        {
          "output_type": "execute_result",
          "data": {
            "text/html": [
              "\n",
              "  <div id=\"df-878d3c54-22fb-4803-ac07-5a065b1bb3bc\">\n",
              "    <div class=\"colab-df-container\">\n",
              "      <div>\n",
              "<style scoped>\n",
              "    .dataframe tbody tr th:only-of-type {\n",
              "        vertical-align: middle;\n",
              "    }\n",
              "\n",
              "    .dataframe tbody tr th {\n",
              "        vertical-align: top;\n",
              "    }\n",
              "\n",
              "    .dataframe thead th {\n",
              "        text-align: right;\n",
              "    }\n",
              "</style>\n",
              "<table border=\"1\" class=\"dataframe\">\n",
              "  <thead>\n",
              "    <tr style=\"text-align: right;\">\n",
              "      <th></th>\n",
              "      <th>Products</th>\n",
              "      <th>Prod_id</th>\n",
              "      <th>Cust_id</th>\n",
              "      <th>Sales</th>\n",
              "      <th>Order_Quan</th>\n",
              "      <th>Profit</th>\n",
              "      <th>Shipping_Cost</th>\n",
              "      <th>Product_Base_Margin</th>\n",
              "      <th>Customer_Segment</th>\n",
              "    </tr>\n",
              "  </thead>\n",
              "  <tbody>\n",
              "    <tr>\n",
              "      <th>0</th>\n",
              "      <td>COPIERS AND FAX</td>\n",
              "      <td>Prod_16</td>\n",
              "      <td>Cust_1088</td>\n",
              "      <td>10909.641</td>\n",
              "      <td>40</td>\n",
              "      <td>2616.46</td>\n",
              "      <td>22.00</td>\n",
              "      <td>0.57</td>\n",
              "      <td>HOME OFFICE</td>\n",
              "    </tr>\n",
              "    <tr>\n",
              "      <th>1</th>\n",
              "      <td>COPIERS AND FAX</td>\n",
              "      <td>Prod_16</td>\n",
              "      <td>Cust_1820</td>\n",
              "      <td>10607.641</td>\n",
              "      <td>27</td>\n",
              "      <td>2977.36</td>\n",
              "      <td>23.69</td>\n",
              "      <td>0.56</td>\n",
              "      <td>CORPORATE</td>\n",
              "    </tr>\n",
              "    <tr>\n",
              "      <th>2</th>\n",
              "      <td>PAPER</td>\n",
              "      <td>Prod_6</td>\n",
              "      <td>Cust_1659</td>\n",
              "      <td>754.641</td>\n",
              "      <td>13</td>\n",
              "      <td>29.80</td>\n",
              "      <td>8.90</td>\n",
              "      <td>0.37</td>\n",
              "      <td>SMALL BUSINESS</td>\n",
              "    </tr>\n",
              "    <tr>\n",
              "      <th>3</th>\n",
              "      <td>PAPER</td>\n",
              "      <td>Prod_6</td>\n",
              "      <td>Cust_622</td>\n",
              "      <td>572.641</td>\n",
              "      <td>22</td>\n",
              "      <td>92.78</td>\n",
              "      <td>10.99</td>\n",
              "      <td>0.39</td>\n",
              "      <td>SMALL BUSINESS</td>\n",
              "    </tr>\n",
              "    <tr>\n",
              "      <th>4</th>\n",
              "      <td>OFFICE MACHINES</td>\n",
              "      <td>Prod_17</td>\n",
              "      <td>Cust_564</td>\n",
              "      <td>10128.641</td>\n",
              "      <td>50</td>\n",
              "      <td>5133.68</td>\n",
              "      <td>20.50</td>\n",
              "      <td>0.36</td>\n",
              "      <td>SMALL BUSINESS</td>\n",
              "    </tr>\n",
              "    <tr>\n",
              "      <th>...</th>\n",
              "      <td>...</td>\n",
              "      <td>...</td>\n",
              "      <td>...</td>\n",
              "      <td>...</td>\n",
              "      <td>...</td>\n",
              "      <td>...</td>\n",
              "      <td>...</td>\n",
              "      <td>...</td>\n",
              "      <td>...</td>\n",
              "    </tr>\n",
              "    <tr>\n",
              "      <th>5972</th>\n",
              "      <td>COPIERS AND FAX</td>\n",
              "      <td>Prod_16</td>\n",
              "      <td>Cust_1397</td>\n",
              "      <td>20265.220</td>\n",
              "      <td>47</td>\n",
              "      <td>6168.64</td>\n",
              "      <td>14.70</td>\n",
              "      <td>0.37</td>\n",
              "      <td>HOME OFFICE</td>\n",
              "    </tr>\n",
              "    <tr>\n",
              "      <th>5973</th>\n",
              "      <td>COPIERS AND FAX</td>\n",
              "      <td>Prod_16</td>\n",
              "      <td>Cust_247</td>\n",
              "      <td>24559.910</td>\n",
              "      <td>47</td>\n",
              "      <td>7358.66</td>\n",
              "      <td>16.63</td>\n",
              "      <td>0.37</td>\n",
              "      <td>SMALL BUSINESS</td>\n",
              "    </tr>\n",
              "    <tr>\n",
              "      <th>5974</th>\n",
              "      <td>COPIERS AND FAX</td>\n",
              "      <td>Prod_16</td>\n",
              "      <td>Cust_1795</td>\n",
              "      <td>28359.400</td>\n",
              "      <td>49</td>\n",
              "      <td>14440.39</td>\n",
              "      <td>24.49</td>\n",
              "      <td>0.52</td>\n",
              "      <td>SMALL BUSINESS</td>\n",
              "    </tr>\n",
              "    <tr>\n",
              "      <th>5975</th>\n",
              "      <td>COPIERS AND FAX</td>\n",
              "      <td>Prod_16</td>\n",
              "      <td>Cust_595</td>\n",
              "      <td>41343.210</td>\n",
              "      <td>8</td>\n",
              "      <td>3852.19</td>\n",
              "      <td>24.49</td>\n",
              "      <td>0.37</td>\n",
              "      <td>HOME OFFICE</td>\n",
              "    </tr>\n",
              "    <tr>\n",
              "      <th>5976</th>\n",
              "      <td>COPIERS AND FAX</td>\n",
              "      <td>Prod_16</td>\n",
              "      <td>Cust_1266</td>\n",
              "      <td>25312.000</td>\n",
              "      <td>48</td>\n",
              "      <td>8788.81</td>\n",
              "      <td>16.63</td>\n",
              "      <td>0.50</td>\n",
              "      <td>CORPORATE</td>\n",
              "    </tr>\n",
              "  </tbody>\n",
              "</table>\n",
              "<p>5977 rows × 9 columns</p>\n",
              "</div>\n",
              "      <button class=\"colab-df-convert\" onclick=\"convertToInteractive('df-878d3c54-22fb-4803-ac07-5a065b1bb3bc')\"\n",
              "              title=\"Convert this dataframe to an interactive table.\"\n",
              "              style=\"display:none;\">\n",
              "        \n",
              "  <svg xmlns=\"http://www.w3.org/2000/svg\" height=\"24px\"viewBox=\"0 0 24 24\"\n",
              "       width=\"24px\">\n",
              "    <path d=\"M0 0h24v24H0V0z\" fill=\"none\"/>\n",
              "    <path d=\"M18.56 5.44l.94 2.06.94-2.06 2.06-.94-2.06-.94-.94-2.06-.94 2.06-2.06.94zm-11 1L8.5 8.5l.94-2.06 2.06-.94-2.06-.94L8.5 2.5l-.94 2.06-2.06.94zm10 10l.94 2.06.94-2.06 2.06-.94-2.06-.94-.94-2.06-.94 2.06-2.06.94z\"/><path d=\"M17.41 7.96l-1.37-1.37c-.4-.4-.92-.59-1.43-.59-.52 0-1.04.2-1.43.59L10.3 9.45l-7.72 7.72c-.78.78-.78 2.05 0 2.83L4 21.41c.39.39.9.59 1.41.59.51 0 1.02-.2 1.41-.59l7.78-7.78 2.81-2.81c.8-.78.8-2.07 0-2.86zM5.41 20L4 18.59l7.72-7.72 1.47 1.35L5.41 20z\"/>\n",
              "  </svg>\n",
              "      </button>\n",
              "      \n",
              "  <style>\n",
              "    .colab-df-container {\n",
              "      display:flex;\n",
              "      flex-wrap:wrap;\n",
              "      gap: 12px;\n",
              "    }\n",
              "\n",
              "    .colab-df-convert {\n",
              "      background-color: #E8F0FE;\n",
              "      border: none;\n",
              "      border-radius: 50%;\n",
              "      cursor: pointer;\n",
              "      display: none;\n",
              "      fill: #1967D2;\n",
              "      height: 32px;\n",
              "      padding: 0 0 0 0;\n",
              "      width: 32px;\n",
              "    }\n",
              "\n",
              "    .colab-df-convert:hover {\n",
              "      background-color: #E2EBFA;\n",
              "      box-shadow: 0px 1px 2px rgba(60, 64, 67, 0.3), 0px 1px 3px 1px rgba(60, 64, 67, 0.15);\n",
              "      fill: #174EA6;\n",
              "    }\n",
              "\n",
              "    [theme=dark] .colab-df-convert {\n",
              "      background-color: #3B4455;\n",
              "      fill: #D2E3FC;\n",
              "    }\n",
              "\n",
              "    [theme=dark] .colab-df-convert:hover {\n",
              "      background-color: #434B5C;\n",
              "      box-shadow: 0px 1px 3px 1px rgba(0, 0, 0, 0.15);\n",
              "      filter: drop-shadow(0px 1px 2px rgba(0, 0, 0, 0.3));\n",
              "      fill: #FFFFFF;\n",
              "    }\n",
              "  </style>\n",
              "\n",
              "      <script>\n",
              "        const buttonEl =\n",
              "          document.querySelector('#df-878d3c54-22fb-4803-ac07-5a065b1bb3bc button.colab-df-convert');\n",
              "        buttonEl.style.display =\n",
              "          google.colab.kernel.accessAllowed ? 'block' : 'none';\n",
              "\n",
              "        async function convertToInteractive(key) {\n",
              "          const element = document.querySelector('#df-878d3c54-22fb-4803-ac07-5a065b1bb3bc');\n",
              "          const dataTable =\n",
              "            await google.colab.kernel.invokeFunction('convertToInteractive',\n",
              "                                                     [key], {});\n",
              "          if (!dataTable) return;\n",
              "\n",
              "          const docLinkHtml = 'Like what you see? Visit the ' +\n",
              "            '<a target=\"_blank\" href=https://colab.research.google.com/notebooks/data_table.ipynb>data table notebook</a>'\n",
              "            + ' to learn more about interactive tables.';\n",
              "          element.innerHTML = '';\n",
              "          dataTable['output_type'] = 'display_data';\n",
              "          await google.colab.output.renderOutput(dataTable, element);\n",
              "          const docLink = document.createElement('div');\n",
              "          docLink.innerHTML = docLinkHtml;\n",
              "          element.appendChild(docLink);\n",
              "        }\n",
              "      </script>\n",
              "    </div>\n",
              "  </div>\n",
              "  "
            ],
            "text/plain": [
              "             Products  Prod_id  ... Product_Base_Margin  Customer_Segment\n",
              "0     COPIERS AND FAX  Prod_16  ...                0.57       HOME OFFICE\n",
              "1     COPIERS AND FAX  Prod_16  ...                0.56         CORPORATE\n",
              "2               PAPER   Prod_6  ...                0.37    SMALL BUSINESS\n",
              "3               PAPER   Prod_6  ...                0.39    SMALL BUSINESS\n",
              "4     OFFICE MACHINES  Prod_17  ...                0.36    SMALL BUSINESS\n",
              "...               ...      ...  ...                 ...               ...\n",
              "5972  COPIERS AND FAX  Prod_16  ...                0.37       HOME OFFICE\n",
              "5973  COPIERS AND FAX  Prod_16  ...                0.37    SMALL BUSINESS\n",
              "5974  COPIERS AND FAX  Prod_16  ...                0.52    SMALL BUSINESS\n",
              "5975  COPIERS AND FAX  Prod_16  ...                0.37       HOME OFFICE\n",
              "5976  COPIERS AND FAX  Prod_16  ...                0.50         CORPORATE\n",
              "\n",
              "[5977 rows x 9 columns]"
            ]
          },
          "metadata": {},
          "execution_count": 2
        }
      ]
    },
    {
      "cell_type": "code",
      "source": [
        "dataset.isnull().sum()\n"
      ],
      "metadata": {
        "id": "GBvCK4xJZOXV"
      },
      "execution_count": null,
      "outputs": []
    },
    {
      "cell_type": "code",
      "source": [
        "dataset.drop(columns=['Products'],axis=1,inplace=True)\n",
        "dataset.drop(columns=['Prod_id'],axis=1,inplace=True)"
      ],
      "metadata": {
        "id": "zWukleXoiKWr"
      },
      "execution_count": 4,
      "outputs": []
    },
    {
      "cell_type": "code",
      "source": [
        "X=dataset.iloc[:,[1,3]].values\n",
        "X"
      ],
      "metadata": {
        "colab": {
          "base_uri": "https://localhost:8080/"
        },
        "id": "0wI9Y4Q2XI5R",
        "outputId": "c348e681-1244-4ea6-ca15-75e7ada268f9"
      },
      "execution_count": 5,
      "outputs": [
        {
          "output_type": "execute_result",
          "data": {
            "text/plain": [
              "array([[1.0909641e+04, 2.6164600e+03],\n",
              "       [1.0607641e+04, 2.9773600e+03],\n",
              "       [7.5464100e+02, 2.9800000e+01],\n",
              "       ...,\n",
              "       [2.8359400e+04, 1.4440390e+04],\n",
              "       [4.1343210e+04, 3.8521900e+03],\n",
              "       [2.5312000e+04, 8.7888100e+03]])"
            ]
          },
          "metadata": {},
          "execution_count": 5
        }
      ]
    },
    {
      "cell_type": "code",
      "source": [
        "#Feature Scaling\n",
        "from sklearn.preprocessing import StandardScaler\n",
        "sc=StandardScaler()\n",
        "X=sc.fit_transform(X)\n"
      ],
      "metadata": {
        "id": "Uwers_AQABZy"
      },
      "execution_count": 6,
      "outputs": []
    },
    {
      "cell_type": "code",
      "source": [
        "from sklearn.preprocessing import normalize\n",
        "data_scaled=normalize(X)"
      ],
      "metadata": {
        "id": "L7RhU2erYjEA"
      },
      "execution_count": 7,
      "outputs": []
    },
    {
      "cell_type": "code",
      "source": [
        "#using dendrogram method to find the optimal number of clusters\n",
        "import scipy.cluster.hierarchy as sch\n",
        "dendrogram=sch.dendrogram(sch.linkage(data_scaled,method='ward')) #ward is a within cluster variance methods finds dist btwn num and minimizes the variance\n",
        "plt.title('Dendrogram method')\n",
        "plt.xlabel('Sample Index')\n",
        "plt.ylabel('Euclidean distance')\n",
        "plt.show()"
      ],
      "metadata": {
        "colab": {
          "base_uri": "https://localhost:8080/",
          "height": 298
        },
        "id": "tu_0J9G6XIxs",
        "outputId": "6dec9270-b669-4a45-e2f6-e1fbb8ab6b85"
      },
      "execution_count": 8,
      "outputs": [
        {
          "output_type": "display_data",
          "data": {
            "image/png": "[encoded data removed]",
            "text/plain": [
              "<Figure size 432x288 with 1 Axes>"
            ]
          },
          "metadata": {
            "needs_background": "light"
          }
        }
      ]
    },
    {
      "cell_type": "code",
      "source": [
        "dendrogram=sch.dendrogram(sch.linkage(data_scaled,method='ward')) #ward is a within cluster variance methods finds dist btwn num and minimizes the variance\n",
        "plt.axhline(y=60,color='r',linestyle='--')\n",
        "plt.title('Dendrogram method')\n",
        "plt.xlabel('Sample Index')\n",
        "plt.ylabel('Euclidean distance')\n",
        "plt.show()"
      ],
      "metadata": {
        "colab": {
          "base_uri": "https://localhost:8080/",
          "height": 298
        },
        "id": "XIHMJa5JAYAh",
        "outputId": "df5933ae-f93f-4a4a-bae3-918c983fa3b5"
      },
      "execution_count": 9,
      "outputs": [
        {
          "output_type": "display_data",
          "data": {
            "image/png": "[encoded data removed]",
            "text/plain": [
              "<Figure size 432x288 with 1 Axes>"
            ]
          },
          "metadata": {
            "needs_background": "light"
          }
        }
      ]
    },
    {
      "cell_type": "code",
      "source": [
        "#fitting HC to the dataset\n",
        "#agglomerative HC\n",
        "\n",
        "from sklearn.cluster import AgglomerativeClustering\n",
        "hc=AgglomerativeClustering(n_clusters=2, affinity=\"euclidean\",linkage='ward')\n",
        "\n",
        "y_hc=hc.fit_predict(X)\n",
        "print(y_hc)\n"
      ],
      "metadata": {
        "colab": {
          "base_uri": "https://localhost:8080/"
        },
        "id": "zGVL6695XIoT",
        "outputId": "efffac7d-ffb9-4f22-845e-29cecea24184"
      },
      "execution_count": 10,
      "outputs": [
        {
          "output_type": "stream",
          "name": "stdout",
          "text": [
            "[0 0 1 ... 0 0 0]\n"
          ]
        }
      ]
    },
    {
      "cell_type": "code",
      "source": [
        "dataset['Clusternum']=hc.labels_\n"
      ],
      "metadata": {
        "id": "UoA10G6wk7nO"
      },
      "execution_count": 11,
      "outputs": []
    },
    {
      "cell_type": "code",
      "source": [
        "dataset.head()"
      ],
      "metadata": {
        "colab": {
          "base_uri": "https://localhost:8080/",
          "height": 206
        },
        "id": "B16O_fl1lY5O",
        "outputId": "9a1f321c-01a9-4758-a0dc-4d49100354f4"
      },
      "execution_count": 12,
      "outputs": [
        {
          "output_type": "execute_result",
          "data": {
            "text/html": [
              "\n",
              "  <div id=\"df-adf1b4e4-8d73-46fa-93a9-8a59e863f761\">\n",
              "    <div class=\"colab-df-container\">\n",
              "      <div>\n",
              "<style scoped>\n",
              "    .dataframe tbody tr th:only-of-type {\n",
              "        vertical-align: middle;\n",
              "    }\n",
              "\n",
              "    .dataframe tbody tr th {\n",
              "        vertical-align: top;\n",
              "    }\n",
              "\n",
              "    .dataframe thead th {\n",
              "        text-align: right;\n",
              "    }\n",
              "</style>\n",
              "<table border=\"1\" class=\"dataframe\">\n",
              "  <thead>\n",
              "    <tr style=\"text-align: right;\">\n",
              "      <th></th>\n",
              "      <th>Cust_id</th>\n",
              "      <th>Sales</th>\n",
              "      <th>Order_Quan</th>\n",
              "      <th>Profit</th>\n",
              "      <th>Shipping_Cost</th>\n",
              "      <th>Product_Base_Margin</th>\n",
              "      <th>Customer_Segment</th>\n",
              "      <th>Clusternum</th>\n",
              "    </tr>\n",
              "  </thead>\n",
              "  <tbody>\n",
              "    <tr>\n",
              "      <th>0</th>\n",
              "      <td>Cust_1088</td>\n",
              "      <td>10909.641</td>\n",
              "      <td>40</td>\n",
              "      <td>2616.46</td>\n",
              "      <td>22.00</td>\n",
              "      <td>0.57</td>\n",
              "      <td>HOME OFFICE</td>\n",
              "      <td>0</td>\n",
              "    </tr>\n",
              "    <tr>\n",
              "      <th>1</th>\n",
              "      <td>Cust_1820</td>\n",
              "      <td>10607.641</td>\n",
              "      <td>27</td>\n",
              "      <td>2977.36</td>\n",
              "      <td>23.69</td>\n",
              "      <td>0.56</td>\n",
              "      <td>CORPORATE</td>\n",
              "      <td>0</td>\n",
              "    </tr>\n",
              "    <tr>\n",
              "      <th>2</th>\n",
              "      <td>Cust_1659</td>\n",
              "      <td>754.641</td>\n",
              "      <td>13</td>\n",
              "      <td>29.80</td>\n",
              "      <td>8.90</td>\n",
              "      <td>0.37</td>\n",
              "      <td>SMALL BUSINESS</td>\n",
              "      <td>1</td>\n",
              "    </tr>\n",
              "    <tr>\n",
              "      <th>3</th>\n",
              "      <td>Cust_622</td>\n",
              "      <td>572.641</td>\n",
              "      <td>22</td>\n",
              "      <td>92.78</td>\n",
              "      <td>10.99</td>\n",
              "      <td>0.39</td>\n",
              "      <td>SMALL BUSINESS</td>\n",
              "      <td>1</td>\n",
              "    </tr>\n",
              "    <tr>\n",
              "      <th>4</th>\n",
              "      <td>Cust_564</td>\n",
              "      <td>10128.641</td>\n",
              "      <td>50</td>\n",
              "      <td>5133.68</td>\n",
              "      <td>20.50</td>\n",
              "      <td>0.36</td>\n",
              "      <td>SMALL BUSINESS</td>\n",
              "      <td>0</td>\n",
              "    </tr>\n",
              "  </tbody>\n",
              "</table>\n",
              "</div>\n",
              "      <button class=\"colab-df-convert\" onclick=\"convertToInteractive('df-adf1b4e4-8d73-46fa-93a9-8a59e863f761')\"\n",
              "              title=\"Convert this dataframe to an interactive table.\"\n",
              "              style=\"display:none;\">\n",
              "        \n",
              "  <svg xmlns=\"http://www.w3.org/2000/svg\" height=\"24px\"viewBox=\"0 0 24 24\"\n",
              "       width=\"24px\">\n",
              "    <path d=\"M0 0h24v24H0V0z\" fill=\"none\"/>\n",
              "    <path d=\"M18.56 5.44l.94 2.06.94-2.06 2.06-.94-2.06-.94-.94-2.06-.94 2.06-2.06.94zm-11 1L8.5 8.5l.94-2.06 2.06-.94-2.06-.94L8.5 2.5l-.94 2.06-2.06.94zm10 10l.94 2.06.94-2.06 2.06-.94-2.06-.94-.94-2.06-.94 2.06-2.06.94z\"/><path d=\"M17.41 7.96l-1.37-1.37c-.4-.4-.92-.59-1.43-.59-.52 0-1.04.2-1.43.59L10.3 9.45l-7.72 7.72c-.78.78-.78 2.05 0 2.83L4 21.41c.39.39.9.59 1.41.59.51 0 1.02-.2 1.41-.59l7.78-7.78 2.81-2.81c.8-.78.8-2.07 0-2.86zM5.41 20L4 18.59l7.72-7.72 1.47 1.35L5.41 20z\"/>\n",
              "  </svg>\n",
              "      </button>\n",
              "      \n",
              "  <style>\n",
              "    .colab-df-container {\n",
              "      display:flex;\n",
              "      flex-wrap:wrap;\n",
              "      gap: 12px;\n",
              "    }\n",
              "\n",
              "    .colab-df-convert {\n",
              "      background-color: #E8F0FE;\n",
              "      border: none;\n",
              "      border-radius: 50%;\n",
              "      cursor: pointer;\n",
              "      display: none;\n",
              "      fill: #1967D2;\n",
              "      height: 32px;\n",
              "      padding: 0 0 0 0;\n",
              "      width: 32px;\n",
              "    }\n",
              "\n",
              "    .colab-df-convert:hover {\n",
              "      background-color: #E2EBFA;\n",
              "      box-shadow: 0px 1px 2px rgba(60, 64, 67, 0.3), 0px 1px 3px 1px rgba(60, 64, 67, 0.15);\n",
              "      fill: #174EA6;\n",
              "    }\n",
              "\n",
              "    [theme=dark] .colab-df-convert {\n",
              "      background-color: #3B4455;\n",
              "      fill: #D2E3FC;\n",
              "    }\n",
              "\n",
              "    [theme=dark] .colab-df-convert:hover {\n",
              "      background-color: #434B5C;\n",
              "      box-shadow: 0px 1px 3px 1px rgba(0, 0, 0, 0.15);\n",
              "      filter: drop-shadow(0px 1px 2px rgba(0, 0, 0, 0.3));\n",
              "      fill: #FFFFFF;\n",
              "    }\n",
              "  </style>\n",
              "\n",
              "      <script>\n",
              "        const buttonEl =\n",
              "          document.querySelector('#df-adf1b4e4-8d73-46fa-93a9-8a59e863f761 button.colab-df-convert');\n",
              "        buttonEl.style.display =\n",
              "          google.colab.kernel.accessAllowed ? 'block' : 'none';\n",
              "\n",
              "        async function convertToInteractive(key) {\n",
              "          const element = document.querySelector('#df-adf1b4e4-8d73-46fa-93a9-8a59e863f761');\n",
              "          const dataTable =\n",
              "            await google.colab.kernel.invokeFunction('convertToInteractive',\n",
              "                                                     [key], {});\n",
              "          if (!dataTable) return;\n",
              "\n",
              "          const docLinkHtml = 'Like what you see? Visit the ' +\n",
              "            '<a target=\"_blank\" href=https://colab.research.google.com/notebooks/data_table.ipynb>data table notebook</a>'\n",
              "            + ' to learn more about interactive tables.';\n",
              "          element.innerHTML = '';\n",
              "          dataTable['output_type'] = 'display_data';\n",
              "          await google.colab.output.renderOutput(dataTable, element);\n",
              "          const docLink = document.createElement('div');\n",
              "          docLink.innerHTML = docLinkHtml;\n",
              "          element.appendChild(docLink);\n",
              "        }\n",
              "      </script>\n",
              "    </div>\n",
              "  </div>\n",
              "  "
            ],
            "text/plain": [
              "     Cust_id      Sales  ...  Customer_Segment  Clusternum\n",
              "0  Cust_1088  10909.641  ...       HOME OFFICE           0\n",
              "1  Cust_1820  10607.641  ...         CORPORATE           0\n",
              "2  Cust_1659    754.641  ...    SMALL BUSINESS           1\n",
              "3   Cust_622    572.641  ...    SMALL BUSINESS           1\n",
              "4   Cust_564  10128.641  ...    SMALL BUSINESS           0\n",
              "\n",
              "[5 rows x 8 columns]"
            ]
          },
          "metadata": {},
          "execution_count": 12
        }
      ]
    },
    {
      "cell_type": "code",
      "source": [
        "dataset.Clusternum.unique()"
      ],
      "metadata": {
        "colab": {
          "base_uri": "https://localhost:8080/"
        },
        "id": "cjiG_CoNlmgf",
        "outputId": "2a9b7d09-463e-4249-89f8-53102fba4da4"
      },
      "execution_count": 13,
      "outputs": [
        {
          "output_type": "execute_result",
          "data": {
            "text/plain": [
              "array([0, 1])"
            ]
          },
          "metadata": {},
          "execution_count": 13
        }
      ]
    },
    {
      "cell_type": "code",
      "source": [
        "import seaborn as sns\n",
        "sns.scatterplot(x='Sales',y='Profit',data=dataset,hue='Clusternum')\n"
      ],
      "metadata": {
        "colab": {
          "base_uri": "https://localhost:8080/",
          "height": 296
        },
        "id": "dUFpqz5NmJsI",
        "outputId": "6a2b2308-ca94-4324-8777-67902a3c9a0e"
      },
      "execution_count": 14,
      "outputs": [
        {
          "output_type": "execute_result",
          "data": {
            "text/plain": [
              "<matplotlib.axes._subplots.AxesSubplot at 0x7f80d85fb450>"
            ]
          },
          "metadata": {},
          "execution_count": 14
        },
        {
          "output_type": "display_data",
          "data": {
            "image/png": "[encoded data removed]",
            "text/plain": [
              "<Figure size 432x288 with 1 Axes>"
            ]
          },
          "metadata": {
            "needs_background": "light"
          }
        }
      ]
    },
    {
      "cell_type": "code",
      "source": [
        "plt.scatter(X[y_hc==0, 0],X[y_hc==0, 1],s=10, c=\"red\" , label='0')\n",
        "plt.scatter(X[y_hc==1, 0],X[y_hc==1, 1],s=5, c=\"orange\" , label='1')\n",
        "plt.xlabel('Sales')\n",
        "plt.ylabel('Profit')\n",
        "plt.legend()\n",
        "plt.show()\n"
      ],
      "metadata": {
        "colab": {
          "base_uri": "https://localhost:8080/",
          "height": 279
        },
        "id": "fOOgEOOKXIdQ",
        "outputId": "a20a418e-7ffa-4bce-bbab-366709a924a8"
      },
      "execution_count": 21,
      "outputs": [
        {
          "output_type": "display_data",
          "data": {
            "image/png": "[encoded data removed]",
            "text/plain": [
              "<Figure size 432x288 with 1 Axes>"
            ]
          },
          "metadata": {
            "needs_background": "light"
          }
        }
      ]
    },
    {
      "cell_type": "code",
      "source": [
        ""
      ],
      "metadata": {
        "id": "3CkXIRdwXIQD"
      },
      "execution_count": null,
      "outputs": []
    }
  ]
}
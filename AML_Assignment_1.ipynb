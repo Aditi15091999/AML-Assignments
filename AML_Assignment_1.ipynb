{
  "nbformat": 4,
  "nbformat_minor": 0,
  "metadata": {
    "colab": {
      "name": "AML  Assignment 1.ipynb",
      "provenance": [],
      "collapsed_sections": [],
      "authorship_tag": "ABX9TyM7sSkOOl/Ilzzhm1VEG3n0",
      "include_colab_link": true
    },
    "kernelspec": {
      "name": "python3",
      "display_name": "Python 3"
    },
    "language_info": {
      "name": "python"
    }
  },
  "cells": [
    {
      "cell_type": "markdown",
      "metadata": {
        "id": "view-in-github",
        "colab_type": "text"
      },
      "source": [
        "<a href=\"https://colab.research.google.com/github/Aditi15091999/AML-Assignments/blob/main/AML_Assignment_1.ipynb\" target=\"_parent\"><img src=\"https://colab.research.google.com/assets/colab-badge.svg\" alt=\"Open In Colab\"/></a>"
      ]
    },
    {
      "cell_type": "code",
      "metadata": {
        "colab": {
          "base_uri": "https://localhost:8080/"
        },
        "id": "Q0yNSjXCcTdi",
        "outputId": "68a0eab1-1ba5-4dd2-9d0b-7efa5e9855d1"
      },
      "source": [
        "hours=float(input(\"Enter the hours\"))\n",
        "rate=float(input(\"Enter the rate\"))\n",
        "pay=hours*rate\n",
        "print(pay)"
      ],
      "execution_count": null,
      "outputs": [
        {
          "output_type": "stream",
          "name": "stdout",
          "text": [
            "Enter the hours35\n",
            "Enter the rate2.75\n",
            "96.25\n"
          ]
        }
      ]
    },
    {
      "cell_type": "code",
      "metadata": {
        "colab": {
          "base_uri": "https://localhost:8080/"
        },
        "id": "T2QGjm_VcsGq",
        "outputId": "b89a7631-be68-4655-9a80-542f51ec67ed"
      },
      "source": [
        "x=4\n",
        "if x<2:\n",
        "  print('Below 2')\n",
        "elif x>=2:\n",
        "  print('two or more')\n",
        "else:\n",
        "  print('Something else') # else will never be executed because all values above 2 will satisfy the elif condition"
      ],
      "execution_count": null,
      "outputs": [
        {
          "output_type": "stream",
          "name": "stdout",
          "text": [
            "two or more\n"
          ]
        }
      ]
    },
    {
      "cell_type": "code",
      "metadata": {
        "colab": {
          "base_uri": "https://localhost:8080/"
        },
        "id": "3I6jVWIbgI6R",
        "outputId": "1dcf4135-ca5c-4045-c780-9b60df19ee73"
      },
      "source": [
        "x=9\n",
        "if x<2:\n",
        "   print('Below 2')\n",
        "elif x<20:\n",
        "  print('Below 20')\n",
        "elif x<10:\n",
        "  print('Below 10')# elif x<10 will never be executed because all values below 10 will satisfy the first elif condition\n",
        "else:\n",
        "  print('Something else')"
      ],
      "execution_count": null,
      "outputs": [
        {
          "output_type": "stream",
          "name": "stdout",
          "text": [
            "Below 20\n"
          ]
        }
      ]
    },
    {
      "cell_type": "code",
      "metadata": {
        "colab": {
          "base_uri": "https://localhost:8080/"
        },
        "id": "k4dhpSHXdHJy",
        "outputId": "d43ce6f7-5089-4fb1-de5d-41f8e1433190"
      },
      "source": [
        "hours=input(\"Enter the hours\")\n",
        "rate=input(\"Enter the rate\")\n",
        "try:\n",
        "  hours=float(hours)\n",
        "  rate=float(rate)\n",
        "  pay=hours*rate\n",
        "  print(pay)\n",
        "except:\n",
        "  print(\"Not a numeric\")\n"
      ],
      "execution_count": null,
      "outputs": [
        {
          "output_type": "stream",
          "name": "stdout",
          "text": [
            "Enter the hourshi\n",
            "Enter the rate4\n",
            "Not a numeric\n"
          ]
        }
      ]
    },
    {
      "cell_type": "code",
      "metadata": {
        "id": "RQZTKUOLg3TE",
        "colab": {
          "base_uri": "https://localhost:8080/"
        },
        "outputId": "b5a95dee-0339-40bb-f6cc-5bb8ecae98d2"
      },
      "source": [
        "def paycomp(hours,rate):\n",
        "  pay=hours*rate\n",
        "  if(hours>45):\n",
        "    pay1=(hours-45)*(1.5*rate)+pay\n",
        "    print(\"the pay is\",pay1)\n",
        "  else:\n",
        "    print(\"The pay is\",pay)\n",
        "\n",
        "paycomp(55,10)\n"
      ],
      "execution_count": null,
      "outputs": [
        {
          "output_type": "stream",
          "name": "stdout",
          "text": [
            "the pay is 700.0\n"
          ]
        }
      ]
    },
    {
      "cell_type": "code",
      "metadata": {
        "id": "cm9VqW2pg-XZ"
      },
      "source": [
        "n=5\n",
        "while n>0:\n",
        "  print('Lather')\n",
        "  print('Rinse')\n",
        "print('Dry off')#infinite loop"
      ],
      "execution_count": null,
      "outputs": []
    },
    {
      "cell_type": "code",
      "metadata": {
        "colab": {
          "base_uri": "https://localhost:8080/"
        },
        "id": "WgZnF5s6hly6",
        "outputId": "27511e73-e59c-42cd-ee9b-d7be246f5a4d"
      },
      "source": [
        "n=0\n",
        "while n>0:\n",
        "  print('Lather')\n",
        "  print('Rinse')\n",
        "print('Dry off') # does not enter the while loop as it does not satisfy the while condition"
      ],
      "execution_count": null,
      "outputs": [
        {
          "output_type": "stream",
          "name": "stdout",
          "text": [
            "Dry off\n"
          ]
        }
      ]
    },
    {
      "cell_type": "code",
      "metadata": {
        "colab": {
          "base_uri": "https://localhost:8080/"
        },
        "id": "v3gK2Y1ghyz5",
        "outputId": "38030487-21f2-4b56-e4cc-2445fdb7e463"
      },
      "source": [
        "list1=[9, 41, 23, 54, 33, 21, 8]\n",
        "#maximum Number\n",
        "max=list1[0]\n",
        "for i in list1:\n",
        "  if i>max:\n",
        "    max=i\n",
        "print(\"Max is\",max)\n",
        "\n",
        "#smallest Number\n",
        "min=list1[0]\n",
        "for i in list1:\n",
        "  if i<min:\n",
        "    min=i\n",
        "print(\"min is\",min)\n",
        "\n",
        "#Number of Numbers\n",
        "count=0\n",
        "for i in list1:\n",
        "  count=count+1\n",
        "print(\"Number of numbers is\",count)\n",
        "\n",
        "#number of odd numbers\n",
        "odd=0\n",
        "for i in list1:\n",
        "  if i%2!=0:\n",
        "    odd=odd+1\n",
        "print(\"Number of odd no\",odd)\n",
        "\n",
        "#number of even numbers\n",
        "even=0\n",
        "for i in list1:\n",
        "  if i%2==0:\n",
        "    even=even+1\n",
        "print(\"Number of even no\",even)\n",
        "\n",
        "\n",
        "#number of prime numbers\n",
        "counter=0;\n",
        "for i in list1:\n",
        "  flag=0\n",
        "  for j in range(2,i):\n",
        "    if(i%j==0):\n",
        "      flag=0\n",
        "      break\n",
        "    else:\n",
        "      flag=1\n",
        "  if flag==1:\n",
        "      counter=counter+1;\n",
        "print(\"the count of prime numbers are\",counter)\n",
        "\n",
        "\n",
        "#sum and average of number\n",
        "sum=cnt=0\n",
        "for i in list1:\n",
        "  sum=sum+i;\n",
        "  cnt=cnt+1;\n",
        "avg=sum/cnt\n",
        "print(\"The sum is\",sum)\n",
        "print(\"The average is\",avg)\n",
        "\n",
        "\n",
        "#filter numbers greater than 20\n",
        "list2=[]\n",
        "for i in list1:\n",
        "  if i>20:\n",
        "    list2.append(i)  \n",
        "print(\"List after removing elements\",list2)\n",
        "\n",
        "#filter numbers less than 15\n",
        "list3=[]\n",
        "for i in list1:\n",
        "  if i<15:\n",
        "    list3.append(i) \n",
        "print(\"List after removing elements\",list3)\n",
        "\n",
        "#search for element 3\n",
        "list4=[]\n",
        "list4.append(5)\n",
        "a=[6,7,9,0,10,11,3]\n",
        "list4.extend(a)\n",
        "print(\"The list is\",list4)\n",
        "key=3\n",
        "if key in list4:\n",
        "    print(\"Key is found\")\n",
        "else:\n",
        "  print(\"key is not found\")\n",
        " \n"
      ],
      "execution_count": 21,
      "outputs": [
        {
          "output_type": "stream",
          "name": "stdout",
          "text": [
            "Max is 54\n",
            "min is 8\n",
            "Number of numbers is 7\n",
            "Number of odd no 5\n",
            "Number of even no 2\n",
            "the count of prime numbers are 2\n",
            "The sum is 189\n",
            "The average is 27.0\n",
            "List after removing elements [41, 23, 54, 33, 21]\n",
            "List after removing elements [9, 8]\n",
            "The list is [5, 6, 7, 9, 0, 10, 11, 3]\n",
            "Key is found\n"
          ]
        }
      ]
    },
    {
      "cell_type": "code",
      "metadata": {
        "colab": {
          "base_uri": "https://localhost:8080/"
        },
        "id": "GZ7OikFbhebd",
        "outputId": "67af0aa5-43ca-42dd-9520-30fb4b7d48f4"
      },
      "source": [
        "#number of prime numbers\n"
      ],
      "execution_count": 16,
      "outputs": [
        {
          "output_type": "stream",
          "name": "stdout",
          "text": [
            "2\n"
          ]
        }
      ]
    },
    {
      "cell_type": "code",
      "metadata": {
        "colab": {
          "base_uri": "https://localhost:8080/"
        },
        "id": "UiZQvCQiimki",
        "outputId": "324eef76-bd88-4c37-924b-2eb5bc009299"
      },
      "source": [
        "int1=9\n",
        "print(type(int1)) # type operator is used to find which data type the variable belongs to\n",
        "int1=str(int1) #type conversion is used to convert one type to another\n",
        "print(type(int1))"
      ],
      "execution_count": null,
      "outputs": [
        {
          "output_type": "stream",
          "name": "stdout",
          "text": [
            "<class 'int'>\n",
            "<class 'str'>\n"
          ]
        }
      ]
    },
    {
      "cell_type": "code",
      "metadata": {
        "colab": {
          "base_uri": "https://localhost:8080/"
        },
        "id": "BT5gzstlkM0Z",
        "outputId": "6da8a6c3-1411-4076-92d4-829bcdad8439"
      },
      "source": [
        "for i in list1:\n",
        "  if i==54:\n",
        "    continue;\n",
        "  print(i)\n",
        "\n",
        "for i in list1:\n",
        "  if i==54:\n",
        "    break;\n",
        "  print(i)"
      ],
      "execution_count": null,
      "outputs": [
        {
          "output_type": "stream",
          "name": "stdout",
          "text": [
            "9\n",
            "41\n",
            "23\n",
            "33\n",
            "21\n",
            "8\n",
            "9\n",
            "41\n",
            "23\n"
          ]
        }
      ]
    }
  ]
}
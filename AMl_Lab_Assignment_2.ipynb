{
  "nbformat": 4,
  "nbformat_minor": 0,
  "metadata": {
    "colab": {
      "name": "AMl Lab Assignment 2.ipynb",
      "provenance": [],
      "collapsed_sections": [],
      "authorship_tag": "ABX9TyNAlKEoZpQdPvyYkUXqxAYd",
      "include_colab_link": true
    },
    "kernelspec": {
      "name": "python3",
      "display_name": "Python 3"
    },
    "language_info": {
      "name": "python"
    }
  },
  "cells": [
    {
      "cell_type": "markdown",
      "metadata": {
        "id": "view-in-github",
        "colab_type": "text"
      },
      "source": [
        "<a href=\"https://colab.research.google.com/github/Aditi15091999/AML-Assignments/blob/main/AMl_Lab_Assignment_2.ipynb\" target=\"_parent\"><img src=\"https://colab.research.google.com/assets/colab-badge.svg\" alt=\"Open In Colab\"/></a>"
      ]
    },
    {
      "cell_type": "markdown",
      "metadata": {
        "id": "WVrWIylleRHh"
      },
      "source": [
        "find the shape and type of (a,a*2)"
      ]
    },
    {
      "cell_type": "code",
      "metadata": {
        "colab": {
          "base_uri": "https://localhost:8080/"
        },
        "id": "I_423rv0lcSO",
        "outputId": "15c00897-ae29-453e-9951-3d844b184933"
      },
      "source": [
        "import numpy as np\n",
        "a=np.arange(10).reshape(2,5)\n",
        "z=np.vstack((a,a*2))\n",
        "print(z)\n",
        "print(z.shape)\n",
        "print(z.dtype)\n",
        "\n",
        "b=np.arange(10)*2\n",
        "np.array(b)\n",
        "print(b)\n",
        "print(b.shape)\n",
        "print(b.dtype)\n",
        "\n"
      ],
      "execution_count": null,
      "outputs": [
        {
          "output_type": "stream",
          "name": "stdout",
          "text": [
            "[[ 0  1  2  3  4]\n",
            " [ 5  6  7  8  9]\n",
            " [ 0  2  4  6  8]\n",
            " [10 12 14 16 18]]\n",
            "(4, 5)\n",
            "int64\n",
            "[ 0  2  4  6  8 10 12 14 16 18]\n",
            "(10,)\n",
            "int64\n"
          ]
        }
      ]
    },
    {
      "cell_type": "code",
      "metadata": {
        "colab": {
          "base_uri": "https://localhost:8080/"
        },
        "id": "7HkAaEo4pVvV",
        "outputId": "0f397581-ad6d-4b39-fb5e-6b689f963b17"
      },
      "source": [
        " arr=np.array([4, -3, -2, 1, 3, 4])\n",
        " print(arr)\n"
      ],
      "execution_count": null,
      "outputs": [
        {
          "output_type": "stream",
          "name": "stdout",
          "text": [
            "[ 4 -3 -2  1  3  4]\n"
          ]
        }
      ]
    },
    {
      "cell_type": "markdown",
      "metadata": {
        "id": "S92qp87oq8Y8"
      },
      "source": [
        "find sum of the elements in the array  "
      ]
    },
    {
      "cell_type": "code",
      "metadata": {
        "colab": {
          "base_uri": "https://localhost:8080/"
        },
        "id": "j9IBE8n0q6NN",
        "outputId": "b8fe9bc6-cc29-43df-858a-0503f944dffe"
      },
      "source": [
        "#sum of the elements in the array  \n",
        "print(sum(arr))"
      ],
      "execution_count": null,
      "outputs": [
        {
          "output_type": "stream",
          "name": "stdout",
          "text": [
            "7\n"
          ]
        }
      ]
    },
    {
      "cell_type": "markdown",
      "metadata": {
        "id": "jButAn4YrDlN"
      },
      "source": [
        " find the small and big elements of the array"
      ]
    },
    {
      "cell_type": "code",
      "metadata": {
        "colab": {
          "base_uri": "https://localhost:8080/"
        },
        "id": "c3vcZfrus912",
        "outputId": "617977e7-986c-4944-e5ce-b41e755a2493"
      },
      "source": [
        "print(min(arr)) #prints the smallest element in the array"
      ],
      "execution_count": null,
      "outputs": [
        {
          "output_type": "stream",
          "name": "stdout",
          "text": [
            "-3\n"
          ]
        }
      ]
    },
    {
      "cell_type": "code",
      "metadata": {
        "colab": {
          "base_uri": "https://localhost:8080/"
        },
        "id": "aISHserGtdYy",
        "outputId": "2d5d8922-5c16-49f1-960d-49bcc161933c"
      },
      "source": [
        "print(max(arr))#prints the largest element in the array"
      ],
      "execution_count": null,
      "outputs": [
        {
          "output_type": "stream",
          "name": "stdout",
          "text": [
            "4\n"
          ]
        }
      ]
    },
    {
      "cell_type": "markdown",
      "metadata": {
        "id": "1uUizS_MtwIM"
      },
      "source": [
        "find the mean and standard deviation of the array elements"
      ]
    },
    {
      "cell_type": "code",
      "metadata": {
        "colab": {
          "base_uri": "https://localhost:8080/"
        },
        "id": "u7n8Qc9EtxIs",
        "outputId": "d8662790-738c-424c-fdc4-50a7fedd6f75"
      },
      "source": [
        "print(arr.mean())#mean of the array elements"
      ],
      "execution_count": null,
      "outputs": [
        {
          "output_type": "stream",
          "name": "stdout",
          "text": [
            "1.1666666666666667\n"
          ]
        }
      ]
    },
    {
      "cell_type": "code",
      "metadata": {
        "colab": {
          "base_uri": "https://localhost:8080/"
        },
        "id": "Mi5MIAI9wVl1",
        "outputId": "01b96388-f85f-4d76-e735-67ed344951a1"
      },
      "source": [
        "print(arr.std())#standard deviation of elements"
      ],
      "execution_count": null,
      "outputs": [
        {
          "output_type": "stream",
          "name": "stdout",
          "text": [
            "2.793842435706702\n"
          ]
        }
      ]
    },
    {
      "cell_type": "markdown",
      "metadata": {
        "id": "e-8Atcc5wwd9"
      },
      "source": [
        "find the index of the biggest and smallest elements of the array"
      ]
    },
    {
      "cell_type": "code",
      "metadata": {
        "colab": {
          "base_uri": "https://localhost:8080/"
        },
        "id": "OuiyblDZwy3s",
        "outputId": "520e2cb5-7da4-47a3-c2cb-a90bef0cccac"
      },
      "source": [
        "print(arr.argmax())#index of maximum element"
      ],
      "execution_count": null,
      "outputs": [
        {
          "output_type": "stream",
          "name": "stdout",
          "text": [
            "0\n"
          ]
        }
      ]
    },
    {
      "cell_type": "code",
      "metadata": {
        "colab": {
          "base_uri": "https://localhost:8080/"
        },
        "id": "PmfNeX9Pxmut",
        "outputId": "a67ab715-38e8-4453-aee5-abeb29642d75"
      },
      "source": [
        "print(arr.argmin())#index of minimum element"
      ],
      "execution_count": null,
      "outputs": [
        {
          "output_type": "stream",
          "name": "stdout",
          "text": [
            "1\n"
          ]
        }
      ]
    },
    {
      "cell_type": "markdown",
      "metadata": {
        "id": "OnPLMlY-ymmd"
      },
      "source": [
        "find the dot product of (2j, 3j), (3j, 2j)"
      ]
    },
    {
      "cell_type": "code",
      "metadata": {
        "colab": {
          "base_uri": "https://localhost:8080/"
        },
        "id": "ydZA13pIynvM",
        "outputId": "aa8d1243-a10b-485f-a039-e94c96fc3254"
      },
      "source": [
        "arr1=np.array([2j,3j])\n",
        "arr2=np.array([3j,2j])\n",
        "np.dot(arr1,arr2) #performs the dot product"
      ],
      "execution_count": null,
      "outputs": [
        {
          "output_type": "execute_result",
          "data": {
            "text/plain": [
              "(-12+0j)"
            ]
          },
          "metadata": {},
          "execution_count": 10
        }
      ]
    },
    {
      "cell_type": "markdown",
      "metadata": {
        "id": "y4ID9Eoly-HM"
      },
      "source": [
        "create an array which contain square of all integer numbers between 0 and 13"
      ]
    },
    {
      "cell_type": "code",
      "metadata": {
        "colab": {
          "base_uri": "https://localhost:8080/"
        },
        "id": "coASPZUKy9GM",
        "outputId": "1e310d03-8403-4f35-900b-6d5650fe0193"
      },
      "source": [
        "arr3=np.arange(13)**2 #returns the square of the elements uptil 12\n",
        "arr3\n"
      ],
      "execution_count": null,
      "outputs": [
        {
          "output_type": "execute_result",
          "data": {
            "text/plain": [
              "array([  0,   1,   4,   9,  16,  25,  36,  49,  64,  81, 100, 121, 144])"
            ]
          },
          "metadata": {},
          "execution_count": 11
        }
      ]
    },
    {
      "cell_type": "markdown",
      "metadata": {
        "id": "X_qDEpcn02_N"
      },
      "source": [
        "Use bracket notation to get value particular index"
      ]
    },
    {
      "cell_type": "code",
      "metadata": {
        "colab": {
          "base_uri": "https://localhost:8080/"
        },
        "id": "Ms07alpm03xc",
        "outputId": "6502779e-4bdf-4bfa-8297-bcf3aaffa36e"
      },
      "source": [
        "arr5=np.random.randint(-5,9,size=10)\n",
        "print(arr5)"
      ],
      "execution_count": null,
      "outputs": [
        {
          "output_type": "stream",
          "name": "stdout",
          "text": [
            "[-4  8  8  3  1 -3 -1 -4  6 -3]\n"
          ]
        }
      ]
    },
    {
      "cell_type": "code",
      "metadata": {
        "colab": {
          "base_uri": "https://localhost:8080/"
        },
        "id": "KUZ88QkG1tM2",
        "outputId": "f5b6c5c3-6b2c-43c7-a905-031d129015fa"
      },
      "source": [
        "arr5[4] #returns the 4th element in the array"
      ],
      "execution_count": null,
      "outputs": [
        {
          "output_type": "execute_result",
          "data": {
            "text/plain": [
              "1"
            ]
          },
          "metadata": {},
          "execution_count": 13
        }
      ]
    },
    {
      "cell_type": "code",
      "metadata": {
        "colab": {
          "base_uri": "https://localhost:8080/"
        },
        "id": "cmKTlAgS128E",
        "outputId": "dfdd6947-1d6d-4bca-9367-3aa8c34416b1"
      },
      "source": [
        "arr5[:5] #returns elements of the array till the 4th index excluding 5th element\n"
      ],
      "execution_count": null,
      "outputs": [
        {
          "output_type": "execute_result",
          "data": {
            "text/plain": [
              "array([-4,  8,  8,  3,  1])"
            ]
          },
          "metadata": {},
          "execution_count": 14
        }
      ]
    },
    {
      "cell_type": "code",
      "metadata": {
        "colab": {
          "base_uri": "https://localhost:8080/"
        },
        "id": "YshLuenO2n_8",
        "outputId": "3763aa3e-d501-4540-c668-5821e851808c"
      },
      "source": [
        "arr5[2:6] #returns the elements corresponding to index 2 to index 5"
      ],
      "execution_count": null,
      "outputs": [
        {
          "output_type": "execute_result",
          "data": {
            "text/plain": [
              "array([ 8,  3,  1, -3])"
            ]
          },
          "metadata": {},
          "execution_count": 15
        }
      ]
    },
    {
      "cell_type": "code",
      "metadata": {
        "colab": {
          "base_uri": "https://localhost:8080/"
        },
        "id": "LD996hh22rr0",
        "outputId": "90b5c3e2-41f6-4c6f-e8a6-1f055d6ef980"
      },
      "source": [
        "arr5[-4]#returns the 4th element from the back of the array"
      ],
      "execution_count": null,
      "outputs": [
        {
          "output_type": "execute_result",
          "data": {
            "text/plain": [
              "-1"
            ]
          },
          "metadata": {},
          "execution_count": 16
        }
      ]
    },
    {
      "cell_type": "code",
      "metadata": {
        "colab": {
          "base_uri": "https://localhost:8080/"
        },
        "id": "zrOF6pae2rju",
        "outputId": "450f258e-1091-457f-8ffd-ff1c3a9eca98"
      },
      "source": [
        "arr5[-4:-1] # returns the  4th elemnt from the back of the array till the last but one element"
      ],
      "execution_count": null,
      "outputs": [
        {
          "output_type": "execute_result",
          "data": {
            "text/plain": [
              "array([-1, -4,  6])"
            ]
          },
          "metadata": {},
          "execution_count": 17
        }
      ]
    },
    {
      "cell_type": "code",
      "metadata": {
        "colab": {
          "base_uri": "https://localhost:8080/"
        },
        "id": "7uoNSiWT2rc8",
        "outputId": "973dd5c9-35bc-40c1-d365-99f52891fd0c"
      },
      "source": [
        "arr5[-4: ] #returns all the elements from the index -4 to the end of the array"
      ],
      "execution_count": null,
      "outputs": [
        {
          "output_type": "execute_result",
          "data": {
            "text/plain": [
              "array([-1, -4,  6, -3])"
            ]
          },
          "metadata": {},
          "execution_count": 18
        }
      ]
    },
    {
      "cell_type": "code",
      "metadata": {
        "colab": {
          "base_uri": "https://localhost:8080/"
        },
        "id": "6EjOCDSu2rTU",
        "outputId": "25eb3a86-0947-4684-a26d-c23452c8b2de"
      },
      "source": [
        "arr5[-5::-2] #returns the elements from the 5th index from behind of the array with steps of -2\n"
      ],
      "execution_count": null,
      "outputs": [
        {
          "output_type": "execute_result",
          "data": {
            "text/plain": [
              "array([-3,  3,  8])"
            ]
          },
          "metadata": {},
          "execution_count": 19
        }
      ]
    },
    {
      "cell_type": "code",
      "metadata": {
        "colab": {
          "base_uri": "https://localhost:8080/"
        },
        "id": "ly-YMLox2zF8",
        "outputId": "79f96ebb-f1a3-4a3b-8873-c196594fb0e6"
      },
      "source": [
        "arr5[-5::2] #returns the elements from the 5th index from behind of the array with steps of 2"
      ],
      "execution_count": null,
      "outputs": [
        {
          "output_type": "execute_result",
          "data": {
            "text/plain": [
              "array([-3, -4, -3])"
            ]
          },
          "metadata": {},
          "execution_count": 20
        }
      ]
    }
  ]
}
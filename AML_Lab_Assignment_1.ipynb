{
  "nbformat": 4,
  "nbformat_minor": 0,
  "metadata": {
    "colab": {
      "name": "AML  Lab Assignment 1.ipynb",
      "provenance": [],
      "collapsed_sections": [],
      "authorship_tag": "ABX9TyOoWRGU2YPmR8WREExWnUAo",
      "include_colab_link": true
    },
    "kernelspec": {
      "name": "python3",
      "display_name": "Python 3"
    },
    "language_info": {
      "name": "python"
    }
  },
  "cells": [
    {
      "cell_type": "markdown",
      "metadata": {
        "id": "view-in-github",
        "colab_type": "text"
      },
      "source": [
        "<a href=\"https://colab.research.google.com/github/Aditi15091999/AML-Assignments/blob/main/AML_Lab_Assignment_1.ipynb\" target=\"_parent\"><img src=\"https://colab.research.google.com/assets/colab-badge.svg\" alt=\"Open In Colab\"/></a>"
      ]
    },
    {
      "cell_type": "code",
      "metadata": {
        "colab": {
          "base_uri": "https://localhost:8080/"
        },
        "id": "Q0yNSjXCcTdi",
        "outputId": "0d1f3ee4-3385-450a-f571-c6e8ddc0354c"
      },
      "source": [
        "hours=float(input(\"Enter the hours\"))#enter the hours \n",
        "rate=float(input(\"Enter the rate\")) #enter the rate\n",
        "pay=hours*rate\n",
        "print(pay)"
      ],
      "execution_count": 1,
      "outputs": [
        {
          "output_type": "stream",
          "name": "stdout",
          "text": [
            "Enter the hours35\n",
            "Enter the rate2.75\n",
            "96.25\n"
          ]
        }
      ]
    },
    {
      "cell_type": "code",
      "metadata": {
        "colab": {
          "base_uri": "https://localhost:8080/"
        },
        "id": "T2QGjm_VcsGq",
        "outputId": "1817c415-fa42-4c75-80d1-e4f5af6c5b0c"
      },
      "source": [
        "x=4\n",
        "if x<2:\n",
        "  print('Below 2')\n",
        "elif x>=2:\n",
        "  print('two or more')\n",
        "else:\n",
        "  print('Something else') # else will never be executed because all values above 2 will satisfy the elif condition"
      ],
      "execution_count": 2,
      "outputs": [
        {
          "output_type": "stream",
          "name": "stdout",
          "text": [
            "two or more\n"
          ]
        }
      ]
    },
    {
      "cell_type": "code",
      "metadata": {
        "colab": {
          "base_uri": "https://localhost:8080/"
        },
        "id": "3I6jVWIbgI6R",
        "outputId": "b431ab63-1d36-40f8-a967-0edc5a819b7d"
      },
      "source": [
        "x=9\n",
        "if x<2:\n",
        "   print('Below 2')\n",
        "elif x<20:\n",
        "  print('Below 20')\n",
        "elif x<10:\n",
        "  print('Below 10')# elif x<10 will never be executed because all values below 10 will satisfy the first elif condition\n",
        "else:\n",
        "  print('Something else')"
      ],
      "execution_count": 3,
      "outputs": [
        {
          "output_type": "stream",
          "name": "stdout",
          "text": [
            "Below 20\n"
          ]
        }
      ]
    },
    {
      "cell_type": "code",
      "metadata": {
        "colab": {
          "base_uri": "https://localhost:8080/"
        },
        "id": "k4dhpSHXdHJy",
        "outputId": "2e23fdc1-025d-4879-d280-ef8cc2bb19d4"
      },
      "source": [
        "hours=input(\"Enter the hours\")\n",
        "rate=input(\"Enter the rate\")\n",
        "try:\n",
        "  hours=float(hours)\n",
        "  rate=float(rate)\n",
        "  pay=hours*rate\n",
        "  print(pay)\n",
        "except:\n",
        "  print(\"Not a numeric\")\n"
      ],
      "execution_count": 4,
      "outputs": [
        {
          "output_type": "stream",
          "name": "stdout",
          "text": [
            "Enter the hoursharshi\n",
            "Enter the rate2\n",
            "Not a numeric\n"
          ]
        }
      ]
    },
    {
      "cell_type": "code",
      "metadata": {
        "id": "RQZTKUOLg3TE",
        "colab": {
          "base_uri": "https://localhost:8080/"
        },
        "outputId": "512968f4-dbe9-4a27-9be3-f9d252cd80fc"
      },
      "source": [
        "def paycomp(hours,rate):\n",
        "  pay=hours*rate\n",
        "  if(hours>45):\n",
        "    pay1=(hours-45)*(1.5*rate)+pay #multiplies by 1.5 when hours greater than 45\n",
        "    print(\"the pay is\",pay1)\n",
        "  else:\n",
        "    print(\"The pay is\",pay)\n",
        "\n",
        "paycomp(55,10)\n"
      ],
      "execution_count": 5,
      "outputs": [
        {
          "output_type": "stream",
          "name": "stdout",
          "text": [
            "the pay is 700.0\n"
          ]
        }
      ]
    },
    {
      "cell_type": "code",
      "metadata": {
        "id": "cm9VqW2pg-XZ"
      },
      "source": [
        "n=5\n",
        "while n>0:\n",
        "  print('Lather')\n",
        "  print('Rinse')\n",
        "print('Dry off')#infinite loop"
      ],
      "execution_count": null,
      "outputs": []
    },
    {
      "cell_type": "code",
      "metadata": {
        "colab": {
          "base_uri": "https://localhost:8080/"
        },
        "id": "WgZnF5s6hly6",
        "outputId": "bc1bccd1-1f29-44f2-80bb-5c44149a9e96"
      },
      "source": [
        "n=0\n",
        "while n>0:\n",
        "  print('Lather')\n",
        "  print('Rinse')\n",
        "print('Dry off') # does not enter the while loop as it does not satisfy the while condition"
      ],
      "execution_count": 8,
      "outputs": [
        {
          "output_type": "stream",
          "name": "stdout",
          "text": [
            "Dry off\n"
          ]
        }
      ]
    },
    {
      "cell_type": "code",
      "metadata": {
        "colab": {
          "base_uri": "https://localhost:8080/"
        },
        "id": "v3gK2Y1ghyz5",
        "outputId": "e77d279e-1a26-4ecf-fff8-b0d4761e7de4"
      },
      "source": [
        "list1=[9, 41, 23, 54, 33, 21, 8]\n",
        "#maximum Number\n",
        "max=list1[0]\n",
        "for i in list1:\n",
        "  if i>max:\n",
        "    max=i\n",
        "print(\"Max is\",max)\n",
        "\n",
        "#smallest Number\n",
        "min=list1[0]\n",
        "for i in list1:\n",
        "  if i<min:\n",
        "    min=i\n",
        "print(\"min is\",min)\n",
        "\n",
        "#Number of Numbers\n",
        "count=0\n",
        "for i in list1:\n",
        "  count=count+1\n",
        "print(\"Number of numbers is\",count)\n",
        "\n",
        "#number of odd numbers\n",
        "odd=0\n",
        "for i in list1:\n",
        "  if i%2!=0:\n",
        "    odd=odd+1\n",
        "print(\"Number of odd no\",odd)\n",
        "\n",
        "#number of even numbers\n",
        "even=0\n",
        "for i in list1:\n",
        "  if i%2==0:\n",
        "    even=even+1\n",
        "print(\"Number of even no\",even)\n",
        "\n",
        "\n",
        "#number of prime numbers\n",
        "counter=0;\n",
        "for i in list1:\n",
        "  flag=0\n",
        "  for j in range(2,i):\n",
        "    if(i%j==0):\n",
        "      flag=0\n",
        "      break\n",
        "    else:\n",
        "      flag=1\n",
        "  if flag==1:\n",
        "      counter=counter+1;\n",
        "print(\"the count of prime numbers are\",counter)\n",
        "\n",
        "\n",
        "#sum and average of number\n",
        "sum=cnt=0\n",
        "for i in list1:\n",
        "  sum=sum+i;\n",
        "  cnt=cnt+1;\n",
        "avg=sum/cnt\n",
        "print(\"The sum is\",sum)\n",
        "print(\"The average is\",avg)\n",
        "\n",
        "\n",
        "#filter numbers greater than 20\n",
        "list2=[]\n",
        "for i in list1:\n",
        "  if i>20:\n",
        "    list2.append(i)  \n",
        "print(\"List after removing elements\",list2)\n",
        "\n",
        "#filter numbers less than 15\n",
        "list3=[]\n",
        "for i in list1:\n",
        "  if i<15:\n",
        "    list3.append(i) \n",
        "print(\"List after removing elements\",list3)\n",
        "\n",
        "#search for element 3\n",
        "list4=[]\n",
        "list4.append(5)\n",
        "a=[6,7,9,0,10,11,3]\n",
        "list4.extend(a)\n",
        "print(\"The list is\",list4)\n",
        "key=3\n",
        "if key in list4:\n",
        "    print(\"Key is found\")\n",
        "else:\n",
        "  print(\"key is not found\")\n",
        " \n"
      ],
      "execution_count": 9,
      "outputs": [
        {
          "output_type": "stream",
          "name": "stdout",
          "text": [
            "Max is 54\n",
            "min is 8\n",
            "Number of numbers is 7\n",
            "Number of odd no 5\n",
            "Number of even no 2\n",
            "the count of prime numbers are 2\n",
            "The sum is 189\n",
            "The average is 27.0\n",
            "List after removing elements [41, 23, 54, 33, 21]\n",
            "List after removing elements [9, 8]\n",
            "The list is [5, 6, 7, 9, 0, 10, 11, 3]\n",
            "Key is found\n"
          ]
        }
      ]
    },
    {
      "cell_type": "code",
      "metadata": {
        "colab": {
          "base_uri": "https://localhost:8080/"
        },
        "id": "UiZQvCQiimki",
        "outputId": "9793febf-6ab4-46e5-8330-deedf4444708"
      },
      "source": [
        "int1=9\n",
        "print(type(int1)) # type operator is used to find which data type the variable belongs to\n",
        "int1=str(int1) #type conversion is used to convert one type to another\n",
        "print(type(int1))"
      ],
      "execution_count": 10,
      "outputs": [
        {
          "output_type": "stream",
          "name": "stdout",
          "text": [
            "<class 'int'>\n",
            "<class 'str'>\n"
          ]
        }
      ]
    },
    {
      "cell_type": "code",
      "metadata": {
        "colab": {
          "base_uri": "https://localhost:8080/"
        },
        "id": "BT5gzstlkM0Z",
        "outputId": "f3877902-a2cd-45fd-ad54-2a023736a1ee"
      },
      "source": [
        "for i in list1:\n",
        "  if i==54:\n",
        "    continue; #skips one iteration\n",
        "  print(i)\n",
        "\n",
        "for i in list1:\n",
        "  if i==54:\n",
        "    break; #comes out of the loop\n",
        "  print(i)"
      ],
      "execution_count": 11,
      "outputs": [
        {
          "output_type": "stream",
          "name": "stdout",
          "text": [
            "9\n",
            "41\n",
            "23\n",
            "33\n",
            "21\n",
            "8\n",
            "9\n",
            "41\n",
            "23\n"
          ]
        }
      ]
    }
  ]
}